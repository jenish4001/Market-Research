{
 "cells": [
  {
   "cell_type": "markdown",
   "metadata": {},
   "source": [
    "<div align=\"right\"><b><font face=\"Arial\" size=4 color=black>Jenish Vinodbhai Dhaduk</font></b></div>\n",
    "<div align=\"right\"><b><font face=\"Arial\" size=4 color=black> Student ID- 989354198 </font></b></div><br><br>\n",
    "<center><font face=\"Arial\" size=6 color=purple>Topic Name - Market Research Battle </font></center>"
   ]
  },
  {
   "cell_type": "markdown",
   "metadata": {},
   "source": [
    "# 1. Objective of the Project:  Describe in your own words the objective of the research in 3 paragraphs or more."
   ]
  },
  {
   "cell_type": "markdown",
   "metadata": {},
   "source": [
    "Amazon is conducting a market research for understanding the customer's buying behaviour. For that a dataset including the sales history of 45 stores from different regions is gathered and given for analysis. The analysis is likely to help the new amazon prime service that is recently being launched. The aim for the analysis is to find out the important factors or underlying links about the shoppers' buying habits.\n",
    "\n",
    "A dataset containing the brief details about the stores including weekly sales, dates, fuel price, size of store, departments in the store, temperature. It also conatins a column that says wether a week had one of these four hoildays Super Bowl, Labor Day, Thanksgiving, and Christmas. The weeks including these holidays are weighted five times higher in the evaluation than non-holiday weeks.\n",
    "\n",
    "These data can uncover many important insights about the customers buying habits such as does temperature affected the sales, does hoilday affected the sales or size of the store matters or not. These insights reagarding the sales will help amazon to build better service and will allow them to serve more number of customers wisely while improving their services as per the customers needs along the way."
   ]
  },
  {
   "cell_type": "markdown",
   "metadata": {},
   "source": [
    "# 2. Data Exploration: Describe your data with code (and text) for at least4 different aspects of your data."
   ]
  },
  {
   "cell_type": "code",
   "execution_count": 1,
   "metadata": {},
   "outputs": [],
   "source": [
    "feature<-read.csv(file.choose())"
   ]
  },
  {
   "cell_type": "code",
   "execution_count": 2,
   "metadata": {},
   "outputs": [],
   "source": [
    "store<-read.csv(file.choose())"
   ]
  },
  {
   "cell_type": "code",
   "execution_count": 3,
   "metadata": {},
   "outputs": [],
   "source": [
    "sales<-read.csv(file.choose())"
   ]
  },
  {
   "cell_type": "markdown",
   "metadata": {},
   "source": [
    "Displaying total number of rows and columns in all datasets"
   ]
  },
  {
   "cell_type": "code",
   "execution_count": 4,
   "metadata": {},
   "outputs": [
    {
     "data": {
      "text/html": [
       "12"
      ],
      "text/latex": [
       "12"
      ],
      "text/markdown": [
       "12"
      ],
      "text/plain": [
       "[1] 12"
      ]
     },
     "metadata": {},
     "output_type": "display_data"
    },
    {
     "data": {
      "text/html": [
       "8190"
      ],
      "text/latex": [
       "8190"
      ],
      "text/markdown": [
       "8190"
      ],
      "text/plain": [
       "[1] 8190"
      ]
     },
     "metadata": {},
     "output_type": "display_data"
    },
    {
     "data": {
      "text/html": [
       "3"
      ],
      "text/latex": [
       "3"
      ],
      "text/markdown": [
       "3"
      ],
      "text/plain": [
       "[1] 3"
      ]
     },
     "metadata": {},
     "output_type": "display_data"
    },
    {
     "data": {
      "text/html": [
       "45"
      ],
      "text/latex": [
       "45"
      ],
      "text/markdown": [
       "45"
      ],
      "text/plain": [
       "[1] 45"
      ]
     },
     "metadata": {},
     "output_type": "display_data"
    },
    {
     "data": {
      "text/html": [
       "5"
      ],
      "text/latex": [
       "5"
      ],
      "text/markdown": [
       "5"
      ],
      "text/plain": [
       "[1] 5"
      ]
     },
     "metadata": {},
     "output_type": "display_data"
    },
    {
     "data": {
      "text/html": [
       "421570"
      ],
      "text/latex": [
       "421570"
      ],
      "text/markdown": [
       "421570"
      ],
      "text/plain": [
       "[1] 421570"
      ]
     },
     "metadata": {},
     "output_type": "display_data"
    }
   ],
   "source": [
    "#number of colunms and rows for feature\n",
    "ncol(feature)\n",
    "nrow(feature)\n",
    "#number of colunms and rows for store\n",
    "ncol(store)\n",
    "nrow(store)\n",
    "#number of colunms and rows for sales\n",
    "ncol(sales)\n",
    "nrow(sales)"
   ]
  },
  {
   "cell_type": "markdown",
   "metadata": {},
   "source": [
    "summary for all data sets"
   ]
  },
  {
   "cell_type": "code",
   "execution_count": 5,
   "metadata": {},
   "outputs": [
    {
     "name": "stdout",
     "output_type": "stream",
     "text": [
      "[1] \"-------feature-------\"\n"
     ]
    },
    {
     "data": {
      "text/plain": [
       "     Store            Date       Temperature       Fuel_Price   \n",
       " Min.   : 1   01/02/2013:  45   Min.   : -7.29   Min.   :2.472  \n",
       " 1st Qu.:12   01/03/2013:  45   1st Qu.: 45.90   1st Qu.:3.041  \n",
       " Median :23   01/04/2011:  45   Median : 60.71   Median :3.513  \n",
       " Mean   :23   01/06/2012:  45   Mean   : 59.36   Mean   :3.406  \n",
       " 3rd Qu.:34   01/07/2011:  45   3rd Qu.: 73.88   3rd Qu.:3.743  \n",
       " Max.   :45   01/10/2010:  45   Max.   :101.95   Max.   :4.468  \n",
       "              (Other)   :7920                                   \n",
       "   MarkDown1        MarkDown2           MarkDown3           MarkDown4       \n",
       " Min.   : -2781   Min.   :  -265.76   Min.   :  -179.26   Min.   :    0.22  \n",
       " 1st Qu.:  1578   1st Qu.:    68.88   1st Qu.:     6.60   1st Qu.:  304.69  \n",
       " Median :  4744   Median :   364.57   Median :    36.26   Median : 1176.42  \n",
       " Mean   :  7032   Mean   :  3384.18   Mean   :  1760.10   Mean   : 3292.94  \n",
       " 3rd Qu.:  8923   3rd Qu.:  2153.35   3rd Qu.:   163.15   3rd Qu.: 3310.01  \n",
       " Max.   :103185   Max.   :104519.54   Max.   :149483.31   Max.   :67474.85  \n",
       " NA's   :4158     NA's   :5269        NA's   :4577        NA's   :4726      \n",
       "   MarkDown5             CPI         Unemployment    IsHoliday      \n",
       " Min.   :  -185.2   Min.   :126.1   Min.   : 3.684   Mode :logical  \n",
       " 1st Qu.:  1440.8   1st Qu.:132.4   1st Qu.: 6.634   FALSE:7605     \n",
       " Median :  2727.1   Median :182.8   Median : 7.806   TRUE :585      \n",
       " Mean   :  4132.2   Mean   :172.5   Mean   : 7.827                  \n",
       " 3rd Qu.:  4832.6   3rd Qu.:213.9   3rd Qu.: 8.567                  \n",
       " Max.   :771448.1   Max.   :229.0   Max.   :14.313                  \n",
       " NA's   :4140       NA's   :585     NA's   :585                     "
      ]
     },
     "metadata": {},
     "output_type": "display_data"
    },
    {
     "name": "stdout",
     "output_type": "stream",
     "text": [
      "[1] \"-------store-------\"\n"
     ]
    },
    {
     "data": {
      "text/plain": [
       "     Store    Type        Size       \n",
       " Min.   : 1   A:22   Min.   : 34875  \n",
       " 1st Qu.:12   B:17   1st Qu.: 70713  \n",
       " Median :23   C: 6   Median :126512  \n",
       " Mean   :23          Mean   :130288  \n",
       " 3rd Qu.:34          3rd Qu.:202307  \n",
       " Max.   :45          Max.   :219622  "
      ]
     },
     "metadata": {},
     "output_type": "display_data"
    },
    {
     "name": "stdout",
     "output_type": "stream",
     "text": [
      "[1] \"-------sales-------\"\n"
     ]
    },
    {
     "data": {
      "text/plain": [
       "     Store           Dept               Date         Weekly_Sales   \n",
       " Min.   : 1.0   Min.   : 1.00   23/12/2011:  3027   Min.   : -4989  \n",
       " 1st Qu.:11.0   1st Qu.:18.00   25/11/2011:  3021   1st Qu.:  2080  \n",
       " Median :22.0   Median :37.00   16/12/2011:  3013   Median :  7612  \n",
       " Mean   :22.2   Mean   :44.26   09/12/2011:  3010   Mean   : 15981  \n",
       " 3rd Qu.:33.0   3rd Qu.:74.00   17/02/2012:  3007   3rd Qu.: 20206  \n",
       " Max.   :45.0   Max.   :99.00   30/12/2011:  3003   Max.   :693099  \n",
       "                                (Other)   :403489                   \n",
       " IsHoliday      \n",
       " Mode :logical  \n",
       " FALSE:391909   \n",
       " TRUE :29661    \n",
       "                \n",
       "                \n",
       "                \n",
       "                "
      ]
     },
     "metadata": {},
     "output_type": "display_data"
    }
   ],
   "source": [
    "#displaying summary \n",
    "print(\"-------feature-------\")\n",
    "summary(feature)\n",
    "print(\"-------store-------\")\n",
    "summary(store)\n",
    "print(\"-------sales-------\")\n",
    "summary(sales)"
   ]
  },
  {
   "cell_type": "code",
   "execution_count": 6,
   "metadata": {
    "scrolled": true
   },
   "outputs": [
    {
     "data": {
      "text/html": [
       "<table>\n",
       "<thead><tr><th scope=col>Store</th><th scope=col>Date</th><th scope=col>Temperature</th><th scope=col>Fuel_Price</th><th scope=col>MarkDown1</th><th scope=col>MarkDown2</th><th scope=col>MarkDown3</th><th scope=col>MarkDown4</th><th scope=col>MarkDown5</th><th scope=col>CPI</th><th scope=col>Unemployment</th><th scope=col>IsHoliday</th></tr></thead>\n",
       "<tbody>\n",
       "\t<tr><td>1         </td><td>05/02/2010</td><td>42.31     </td><td>2.572     </td><td>NA        </td><td>NA        </td><td>NA        </td><td>NA        </td><td>NA        </td><td>211.0964  </td><td>8.106     </td><td>FALSE     </td></tr>\n",
       "\t<tr><td>1         </td><td>12/02/2010</td><td>38.51     </td><td>2.548     </td><td>NA        </td><td>NA        </td><td>NA        </td><td>NA        </td><td>NA        </td><td>211.2422  </td><td>8.106     </td><td> TRUE     </td></tr>\n",
       "\t<tr><td>1         </td><td>19/02/2010</td><td>39.93     </td><td>2.514     </td><td>NA        </td><td>NA        </td><td>NA        </td><td>NA        </td><td>NA        </td><td>211.2891  </td><td>8.106     </td><td>FALSE     </td></tr>\n",
       "\t<tr><td>1         </td><td>26/02/2010</td><td>46.63     </td><td>2.561     </td><td>NA        </td><td>NA        </td><td>NA        </td><td>NA        </td><td>NA        </td><td>211.3196  </td><td>8.106     </td><td>FALSE     </td></tr>\n",
       "\t<tr><td>1         </td><td>05/03/2010</td><td>46.50     </td><td>2.625     </td><td>NA        </td><td>NA        </td><td>NA        </td><td>NA        </td><td>NA        </td><td>211.3501  </td><td>8.106     </td><td>FALSE     </td></tr>\n",
       "\t<tr><td>1         </td><td>12/03/2010</td><td>57.79     </td><td>2.667     </td><td>NA        </td><td>NA        </td><td>NA        </td><td>NA        </td><td>NA        </td><td>211.3806  </td><td>8.106     </td><td>FALSE     </td></tr>\n",
       "\t<tr><td>1         </td><td>19/03/2010</td><td>54.58     </td><td>2.720     </td><td>NA        </td><td>NA        </td><td>NA        </td><td>NA        </td><td>NA        </td><td>211.2156  </td><td>8.106     </td><td>FALSE     </td></tr>\n",
       "\t<tr><td>1         </td><td>26/03/2010</td><td>51.45     </td><td>2.732     </td><td>NA        </td><td>NA        </td><td>NA        </td><td>NA        </td><td>NA        </td><td>211.0180  </td><td>8.106     </td><td>FALSE     </td></tr>\n",
       "\t<tr><td>1         </td><td>02/04/2010</td><td>62.27     </td><td>2.719     </td><td>NA        </td><td>NA        </td><td>NA        </td><td>NA        </td><td>NA        </td><td>210.8204  </td><td>7.808     </td><td>FALSE     </td></tr>\n",
       "\t<tr><td>1         </td><td>09/04/2010</td><td>65.86     </td><td>2.770     </td><td>NA        </td><td>NA        </td><td>NA        </td><td>NA        </td><td>NA        </td><td>210.6229  </td><td>7.808     </td><td>FALSE     </td></tr>\n",
       "</tbody>\n",
       "</table>\n"
      ],
      "text/latex": [
       "\\begin{tabular}{r|llllllllllll}\n",
       " Store & Date & Temperature & Fuel\\_Price & MarkDown1 & MarkDown2 & MarkDown3 & MarkDown4 & MarkDown5 & CPI & Unemployment & IsHoliday\\\\\n",
       "\\hline\n",
       "\t 1          & 05/02/2010 & 42.31      & 2.572      & NA         & NA         & NA         & NA         & NA         & 211.0964   & 8.106      & FALSE     \\\\\n",
       "\t 1          & 12/02/2010 & 38.51      & 2.548      & NA         & NA         & NA         & NA         & NA         & 211.2422   & 8.106      &  TRUE     \\\\\n",
       "\t 1          & 19/02/2010 & 39.93      & 2.514      & NA         & NA         & NA         & NA         & NA         & 211.2891   & 8.106      & FALSE     \\\\\n",
       "\t 1          & 26/02/2010 & 46.63      & 2.561      & NA         & NA         & NA         & NA         & NA         & 211.3196   & 8.106      & FALSE     \\\\\n",
       "\t 1          & 05/03/2010 & 46.50      & 2.625      & NA         & NA         & NA         & NA         & NA         & 211.3501   & 8.106      & FALSE     \\\\\n",
       "\t 1          & 12/03/2010 & 57.79      & 2.667      & NA         & NA         & NA         & NA         & NA         & 211.3806   & 8.106      & FALSE     \\\\\n",
       "\t 1          & 19/03/2010 & 54.58      & 2.720      & NA         & NA         & NA         & NA         & NA         & 211.2156   & 8.106      & FALSE     \\\\\n",
       "\t 1          & 26/03/2010 & 51.45      & 2.732      & NA         & NA         & NA         & NA         & NA         & 211.0180   & 8.106      & FALSE     \\\\\n",
       "\t 1          & 02/04/2010 & 62.27      & 2.719      & NA         & NA         & NA         & NA         & NA         & 210.8204   & 7.808      & FALSE     \\\\\n",
       "\t 1          & 09/04/2010 & 65.86      & 2.770      & NA         & NA         & NA         & NA         & NA         & 210.6229   & 7.808      & FALSE     \\\\\n",
       "\\end{tabular}\n"
      ],
      "text/markdown": [
       "\n",
       "| Store | Date | Temperature | Fuel_Price | MarkDown1 | MarkDown2 | MarkDown3 | MarkDown4 | MarkDown5 | CPI | Unemployment | IsHoliday |\n",
       "|---|---|---|---|---|---|---|---|---|---|---|---|\n",
       "| 1          | 05/02/2010 | 42.31      | 2.572      | NA         | NA         | NA         | NA         | NA         | 211.0964   | 8.106      | FALSE      |\n",
       "| 1          | 12/02/2010 | 38.51      | 2.548      | NA         | NA         | NA         | NA         | NA         | 211.2422   | 8.106      |  TRUE      |\n",
       "| 1          | 19/02/2010 | 39.93      | 2.514      | NA         | NA         | NA         | NA         | NA         | 211.2891   | 8.106      | FALSE      |\n",
       "| 1          | 26/02/2010 | 46.63      | 2.561      | NA         | NA         | NA         | NA         | NA         | 211.3196   | 8.106      | FALSE      |\n",
       "| 1          | 05/03/2010 | 46.50      | 2.625      | NA         | NA         | NA         | NA         | NA         | 211.3501   | 8.106      | FALSE      |\n",
       "| 1          | 12/03/2010 | 57.79      | 2.667      | NA         | NA         | NA         | NA         | NA         | 211.3806   | 8.106      | FALSE      |\n",
       "| 1          | 19/03/2010 | 54.58      | 2.720      | NA         | NA         | NA         | NA         | NA         | 211.2156   | 8.106      | FALSE      |\n",
       "| 1          | 26/03/2010 | 51.45      | 2.732      | NA         | NA         | NA         | NA         | NA         | 211.0180   | 8.106      | FALSE      |\n",
       "| 1          | 02/04/2010 | 62.27      | 2.719      | NA         | NA         | NA         | NA         | NA         | 210.8204   | 7.808      | FALSE      |\n",
       "| 1          | 09/04/2010 | 65.86      | 2.770      | NA         | NA         | NA         | NA         | NA         | 210.6229   | 7.808      | FALSE      |\n",
       "\n"
      ],
      "text/plain": [
       "   Store Date       Temperature Fuel_Price MarkDown1 MarkDown2 MarkDown3\n",
       "1  1     05/02/2010 42.31       2.572      NA        NA        NA       \n",
       "2  1     12/02/2010 38.51       2.548      NA        NA        NA       \n",
       "3  1     19/02/2010 39.93       2.514      NA        NA        NA       \n",
       "4  1     26/02/2010 46.63       2.561      NA        NA        NA       \n",
       "5  1     05/03/2010 46.50       2.625      NA        NA        NA       \n",
       "6  1     12/03/2010 57.79       2.667      NA        NA        NA       \n",
       "7  1     19/03/2010 54.58       2.720      NA        NA        NA       \n",
       "8  1     26/03/2010 51.45       2.732      NA        NA        NA       \n",
       "9  1     02/04/2010 62.27       2.719      NA        NA        NA       \n",
       "10 1     09/04/2010 65.86       2.770      NA        NA        NA       \n",
       "   MarkDown4 MarkDown5 CPI      Unemployment IsHoliday\n",
       "1  NA        NA        211.0964 8.106        FALSE    \n",
       "2  NA        NA        211.2422 8.106         TRUE    \n",
       "3  NA        NA        211.2891 8.106        FALSE    \n",
       "4  NA        NA        211.3196 8.106        FALSE    \n",
       "5  NA        NA        211.3501 8.106        FALSE    \n",
       "6  NA        NA        211.3806 8.106        FALSE    \n",
       "7  NA        NA        211.2156 8.106        FALSE    \n",
       "8  NA        NA        211.0180 8.106        FALSE    \n",
       "9  NA        NA        210.8204 7.808        FALSE    \n",
       "10 NA        NA        210.6229 7.808        FALSE    "
      ]
     },
     "metadata": {},
     "output_type": "display_data"
    }
   ],
   "source": [
    "#displaying the first 10 rows of the feature \n",
    "head(feature,n=10)"
   ]
  },
  {
   "cell_type": "markdown",
   "metadata": {},
   "source": [
    "The first 10 rows of the feature table."
   ]
  },
  {
   "cell_type": "markdown",
   "metadata": {},
   "source": [
    "Displaying mean, median, maximum and minimum for temperature from feature table."
   ]
  },
  {
   "cell_type": "code",
   "execution_count": 7,
   "metadata": {},
   "outputs": [
    {
     "name": "stdout",
     "output_type": "stream",
     "text": [
      "[1] \"mean of temperature\"\n"
     ]
    },
    {
     "data": {
      "text/html": [
       "59.3561978021978"
      ],
      "text/latex": [
       "59.3561978021978"
      ],
      "text/markdown": [
       "59.3561978021978"
      ],
      "text/plain": [
       "[1] 59.3562"
      ]
     },
     "metadata": {},
     "output_type": "display_data"
    },
    {
     "name": "stdout",
     "output_type": "stream",
     "text": [
      "[1] \"median of temperature\"\n"
     ]
    },
    {
     "data": {
      "text/html": [
       "60.71"
      ],
      "text/latex": [
       "60.71"
      ],
      "text/markdown": [
       "60.71"
      ],
      "text/plain": [
       "[1] 60.71"
      ]
     },
     "metadata": {},
     "output_type": "display_data"
    },
    {
     "name": "stdout",
     "output_type": "stream",
     "text": [
      "[1] \"maximum temperature\"\n"
     ]
    },
    {
     "data": {
      "text/html": [
       "101.95"
      ],
      "text/latex": [
       "101.95"
      ],
      "text/markdown": [
       "101.95"
      ],
      "text/plain": [
       "[1] 101.95"
      ]
     },
     "metadata": {},
     "output_type": "display_data"
    },
    {
     "name": "stdout",
     "output_type": "stream",
     "text": [
      "[1] \"minimum temperature\"\n"
     ]
    },
    {
     "data": {
      "text/html": [
       "-7.29"
      ],
      "text/latex": [
       "-7.29"
      ],
      "text/markdown": [
       "-7.29"
      ],
      "text/plain": [
       "[1] -7.29"
      ]
     },
     "metadata": {},
     "output_type": "display_data"
    }
   ],
   "source": [
    "print(\"mean of temperature\")\n",
    "mean(feature$Temperature)\n",
    "print(\"median of temperature\")\n",
    "median(feature$Temperature)\n",
    "print(\"maximum temperature\")\n",
    "max(feature$Temperature)\n",
    "print(\"minimum temperature\")\n",
    "min(feature$Temperature)"
   ]
  },
  {
   "cell_type": "markdown",
   "metadata": {},
   "source": [
    "The above code reads the three necessary datasets provided for carrying out the analysis."
   ]
  },
  {
   "cell_type": "markdown",
   "metadata": {},
   "source": [
    "# 3. Merge: Create a new dataset called 'sales_all' that contains all columns of the Feature dataset merged with the other two (sales and stores). As you can identify by analyzing the 3 tables, you will see that the common field between the Features datasate and the sales is the Date. Similarly, the common field between the Features dataset and the stores dataset is the store number."
   ]
  },
  {
   "cell_type": "markdown",
   "metadata": {},
   "source": [
    "Merging datasets features and sales by date into merge1."
   ]
  },
  {
   "cell_type": "code",
   "execution_count": 8,
   "metadata": {},
   "outputs": [
    {
     "name": "stderr",
     "output_type": "stream",
     "text": [
      "\n",
      "Attaching package: 'dplyr'\n",
      "\n",
      "The following objects are masked from 'package:stats':\n",
      "\n",
      "    filter, lag\n",
      "\n",
      "The following objects are masked from 'package:base':\n",
      "\n",
      "    intersect, setdiff, setequal, union\n",
      "\n"
     ]
    }
   ],
   "source": [
    "library(dplyr)\n",
    "new_feature <- feature %>% filter(Store != \"<NA>\")\n",
    "new_store <- store %>% filter(Store != \"<NA>\")\n",
    "new_feature<-head(new_feature,n=10000)"
   ]
  },
  {
   "cell_type": "code",
   "execution_count": 9,
   "metadata": {},
   "outputs": [],
   "source": [
    "merge1<-merge(new_feature, sales, by = \"Date\",all.x = TRUE)"
   ]
  },
  {
   "cell_type": "code",
   "execution_count": 11,
   "metadata": {
    "scrolled": true
   },
   "outputs": [
    {
     "data": {
      "text/html": [
       "<table>\n",
       "<thead><tr><th scope=col>Date</th><th scope=col>Store.x</th><th scope=col>Temperature</th><th scope=col>Fuel_Price</th><th scope=col>MarkDown1</th><th scope=col>MarkDown2</th><th scope=col>MarkDown3</th><th scope=col>MarkDown4</th><th scope=col>MarkDown5</th><th scope=col>CPI</th><th scope=col>Unemployment</th><th scope=col>IsHoliday.x</th><th scope=col>Store.y</th><th scope=col>Dept</th><th scope=col>Weekly_Sales</th><th scope=col>IsHoliday.y</th></tr></thead>\n",
       "<tbody>\n",
       "\t<tr><td>01/04/2011</td><td>32        </td><td>44.83     </td><td>3.461     </td><td>NA        </td><td>NA        </td><td>NA        </td><td>NA        </td><td>NA        </td><td>192.2692  </td><td>8.595     </td><td>FALSE     </td><td>17        </td><td>44        </td><td> 7816.50  </td><td>FALSE     </td></tr>\n",
       "\t<tr><td>01/04/2011</td><td>32        </td><td>44.83     </td><td>3.461     </td><td>NA        </td><td>NA        </td><td>NA        </td><td>NA        </td><td>NA        </td><td>192.2692  </td><td>8.595     </td><td>FALSE     </td><td>38        </td><td>60        </td><td>  448.80  </td><td>FALSE     </td></tr>\n",
       "\t<tr><td>01/04/2011</td><td>32        </td><td>44.83     </td><td>3.461     </td><td>NA        </td><td>NA        </td><td>NA        </td><td>NA        </td><td>NA        </td><td>192.2692  </td><td>8.595     </td><td>FALSE     </td><td>15        </td><td> 4        </td><td>11417.76  </td><td>FALSE     </td></tr>\n",
       "\t<tr><td>01/04/2011</td><td>32        </td><td>44.83     </td><td>3.461     </td><td>NA        </td><td>NA        </td><td>NA        </td><td>NA        </td><td>NA        </td><td>192.2692  </td><td>8.595     </td><td>FALSE     </td><td> 4        </td><td> 8        </td><td>58162.65  </td><td>FALSE     </td></tr>\n",
       "\t<tr><td>01/04/2011</td><td>32        </td><td>44.83     </td><td>3.461     </td><td>NA        </td><td>NA        </td><td>NA        </td><td>NA        </td><td>NA        </td><td>192.2692  </td><td>8.595     </td><td>FALSE     </td><td>22        </td><td>20        </td><td> 6310.02  </td><td>FALSE     </td></tr>\n",
       "\t<tr><td>01/04/2011</td><td>32        </td><td>44.83     </td><td>3.461     </td><td>NA        </td><td>NA        </td><td>NA        </td><td>NA        </td><td>NA        </td><td>192.2692  </td><td>8.595     </td><td>FALSE     </td><td>32        </td><td>10        </td><td>16425.73  </td><td>FALSE     </td></tr>\n",
       "\t<tr><td>01/04/2011</td><td>32        </td><td>44.83     </td><td>3.461     </td><td>NA        </td><td>NA        </td><td>NA        </td><td>NA        </td><td>NA        </td><td>192.2692  </td><td>8.595     </td><td>FALSE     </td><td>23        </td><td>80        </td><td> 1147.07  </td><td>FALSE     </td></tr>\n",
       "\t<tr><td>01/04/2011</td><td>32        </td><td>44.83     </td><td>3.461     </td><td>NA        </td><td>NA        </td><td>NA        </td><td>NA        </td><td>NA        </td><td>192.2692  </td><td>8.595     </td><td>FALSE     </td><td>26        </td><td>49        </td><td> 4364.12  </td><td>FALSE     </td></tr>\n",
       "\t<tr><td>01/04/2011</td><td>32        </td><td>44.83     </td><td>3.461     </td><td>NA        </td><td>NA        </td><td>NA        </td><td>NA        </td><td>NA        </td><td>192.2692  </td><td>8.595     </td><td>FALSE     </td><td>21        </td><td>79        </td><td>20857.96  </td><td>FALSE     </td></tr>\n",
       "\t<tr><td>01/04/2011</td><td>32        </td><td>44.83     </td><td>3.461     </td><td>NA        </td><td>NA        </td><td>NA        </td><td>NA        </td><td>NA        </td><td>192.2692  </td><td>8.595     </td><td>FALSE     </td><td>19        </td><td>82        </td><td>18820.28  </td><td>FALSE     </td></tr>\n",
       "\t<tr><td>01/04/2011</td><td>32        </td><td>44.83     </td><td>3.461     </td><td>NA        </td><td>NA        </td><td>NA        </td><td>NA        </td><td>NA        </td><td>192.2692  </td><td>8.595     </td><td>FALSE     </td><td>18        </td><td>13        </td><td>39780.60  </td><td>FALSE     </td></tr>\n",
       "\t<tr><td>01/04/2011</td><td>32        </td><td>44.83     </td><td>3.461     </td><td>NA        </td><td>NA        </td><td>NA        </td><td>NA        </td><td>NA        </td><td>192.2692  </td><td>8.595     </td><td>FALSE     </td><td>26        </td><td>41        </td><td>  943.50  </td><td>FALSE     </td></tr>\n",
       "\t<tr><td>01/04/2011</td><td>32        </td><td>44.83     </td><td>3.461     </td><td>NA        </td><td>NA        </td><td>NA        </td><td>NA        </td><td>NA        </td><td>192.2692  </td><td>8.595     </td><td>FALSE     </td><td>39        </td><td>21        </td><td> 6094.30  </td><td>FALSE     </td></tr>\n",
       "\t<tr><td>01/04/2011</td><td>32        </td><td>44.83     </td><td>3.461     </td><td>NA        </td><td>NA        </td><td>NA        </td><td>NA        </td><td>NA        </td><td>192.2692  </td><td>8.595     </td><td>FALSE     </td><td> 5        </td><td>71        </td><td>  195.96  </td><td>FALSE     </td></tr>\n",
       "\t<tr><td>01/04/2011</td><td>32        </td><td>44.83     </td><td>3.461     </td><td>NA        </td><td>NA        </td><td>NA        </td><td>NA        </td><td>NA        </td><td>192.2692  </td><td>8.595     </td><td>FALSE     </td><td>41        </td><td>28        </td><td>  545.46  </td><td>FALSE     </td></tr>\n",
       "\t<tr><td>01/04/2011</td><td>32        </td><td>44.83     </td><td>3.461     </td><td>NA        </td><td>NA        </td><td>NA        </td><td>NA        </td><td>NA        </td><td>192.2692  </td><td>8.595     </td><td>FALSE     </td><td>40        </td><td> 7        </td><td>11928.35  </td><td>FALSE     </td></tr>\n",
       "\t<tr><td>01/04/2011</td><td>32        </td><td>44.83     </td><td>3.461     </td><td>NA        </td><td>NA        </td><td>NA        </td><td>NA        </td><td>NA        </td><td>192.2692  </td><td>8.595     </td><td>FALSE     </td><td>35        </td><td>26        </td><td>10308.18  </td><td>FALSE     </td></tr>\n",
       "\t<tr><td>01/04/2011</td><td>32        </td><td>44.83     </td><td>3.461     </td><td>NA        </td><td>NA        </td><td>NA        </td><td>NA        </td><td>NA        </td><td>192.2692  </td><td>8.595     </td><td>FALSE     </td><td>13        </td><td>91        </td><td>74767.44  </td><td>FALSE     </td></tr>\n",
       "\t<tr><td>01/04/2011</td><td>32        </td><td>44.83     </td><td>3.461     </td><td>NA        </td><td>NA        </td><td>NA        </td><td>NA        </td><td>NA        </td><td>192.2692  </td><td>8.595     </td><td>FALSE     </td><td>31        </td><td>25        </td><td> 9759.50  </td><td>FALSE     </td></tr>\n",
       "\t<tr><td>01/04/2011</td><td>32        </td><td>44.83     </td><td>3.461     </td><td>NA        </td><td>NA        </td><td>NA        </td><td>NA        </td><td>NA        </td><td>192.2692  </td><td>8.595     </td><td>FALSE     </td><td>26        </td><td>21        </td><td> 4849.97  </td><td>FALSE     </td></tr>\n",
       "\t<tr><td>01/04/2011</td><td>32        </td><td>44.83     </td><td>3.461     </td><td>NA        </td><td>NA        </td><td>NA        </td><td>NA        </td><td>NA        </td><td>192.2692  </td><td>8.595     </td><td>FALSE     </td><td>23        </td><td>35        </td><td> 5595.25  </td><td>FALSE     </td></tr>\n",
       "\t<tr><td>01/04/2011</td><td>32        </td><td>44.83     </td><td>3.461     </td><td>NA        </td><td>NA        </td><td>NA        </td><td>NA        </td><td>NA        </td><td>192.2692  </td><td>8.595     </td><td>FALSE     </td><td>27        </td><td> 7        </td><td>30583.88  </td><td>FALSE     </td></tr>\n",
       "\t<tr><td>01/04/2011</td><td>32        </td><td>44.83     </td><td>3.461     </td><td>NA        </td><td>NA        </td><td>NA        </td><td>NA        </td><td>NA        </td><td>192.2692  </td><td>8.595     </td><td>FALSE     </td><td>19        </td><td> 1        </td><td>18559.78  </td><td>FALSE     </td></tr>\n",
       "\t<tr><td>01/04/2011</td><td>32        </td><td>44.83     </td><td>3.461     </td><td>NA        </td><td>NA        </td><td>NA        </td><td>NA        </td><td>NA        </td><td>192.2692  </td><td>8.595     </td><td>FALSE     </td><td>41        </td><td>16        </td><td>19988.86  </td><td>FALSE     </td></tr>\n",
       "\t<tr><td>01/04/2011</td><td>32        </td><td>44.83     </td><td>3.461     </td><td>NA        </td><td>NA        </td><td>NA        </td><td>NA        </td><td>NA        </td><td>192.2692  </td><td>8.595     </td><td>FALSE     </td><td>30        </td><td> 7        </td><td>  372.37  </td><td>FALSE     </td></tr>\n",
       "\t<tr><td>01/04/2011</td><td>32        </td><td>44.83     </td><td>3.461     </td><td>NA        </td><td>NA        </td><td>NA        </td><td>NA        </td><td>NA        </td><td>192.2692  </td><td>8.595     </td><td>FALSE     </td><td>28        </td><td>31        </td><td> 1618.70  </td><td>FALSE     </td></tr>\n",
       "\t<tr><td>01/04/2011</td><td>32        </td><td>44.83     </td><td>3.461     </td><td>NA        </td><td>NA        </td><td>NA        </td><td>NA        </td><td>NA        </td><td>192.2692  </td><td>8.595     </td><td>FALSE     </td><td>27        </td><td>52        </td><td> 1407.01  </td><td>FALSE     </td></tr>\n",
       "\t<tr><td>01/04/2011</td><td>32        </td><td>44.83     </td><td>3.461     </td><td>NA        </td><td>NA        </td><td>NA        </td><td>NA        </td><td>NA        </td><td>192.2692  </td><td>8.595     </td><td>FALSE     </td><td> 2        </td><td>58        </td><td>18600.00  </td><td>FALSE     </td></tr>\n",
       "\t<tr><td>01/04/2011</td><td>32        </td><td>44.83     </td><td>3.461     </td><td>NA        </td><td>NA        </td><td>NA        </td><td>NA        </td><td>NA        </td><td>192.2692  </td><td>8.595     </td><td>FALSE     </td><td>16        </td><td>27        </td><td>  600.62  </td><td>FALSE     </td></tr>\n",
       "\t<tr><td>01/04/2011</td><td>32        </td><td>44.83     </td><td>3.461     </td><td>NA        </td><td>NA        </td><td>NA        </td><td>NA        </td><td>NA        </td><td>192.2692  </td><td>8.595     </td><td>FALSE     </td><td>22        </td><td>25        </td><td> 7659.42  </td><td>FALSE     </td></tr>\n",
       "\t<tr><td>...</td><td>...</td><td>...</td><td>...</td><td>...</td><td>...</td><td>...</td><td>...</td><td>...</td><td>...</td><td>...</td><td>...</td><td>...</td><td>...</td><td>...</td><td>...</td></tr>\n",
       "\t<tr><td>01/04/2011</td><td>32        </td><td>44.83     </td><td>3.461     </td><td>NA        </td><td>NA        </td><td>NA        </td><td>NA        </td><td>NA        </td><td>192.2692  </td><td>8.595     </td><td>FALSE     </td><td>33        </td><td>25        </td><td>    14.00 </td><td>FALSE     </td></tr>\n",
       "\t<tr><td>01/04/2011</td><td>32        </td><td>44.83     </td><td>3.461     </td><td>NA        </td><td>NA        </td><td>NA        </td><td>NA        </td><td>NA        </td><td>192.2692  </td><td>8.595     </td><td>FALSE     </td><td>15        </td><td>81        </td><td>  4337.25 </td><td>FALSE     </td></tr>\n",
       "\t<tr><td>01/04/2011</td><td>32        </td><td>44.83     </td><td>3.461     </td><td>NA        </td><td>NA        </td><td>NA        </td><td>NA        </td><td>NA        </td><td>192.2692  </td><td>8.595     </td><td>FALSE     </td><td>19        </td><td> 7        </td><td> 21402.40 </td><td>FALSE     </td></tr>\n",
       "\t<tr><td>01/04/2011</td><td>32        </td><td>44.83     </td><td>3.461     </td><td>NA        </td><td>NA        </td><td>NA        </td><td>NA        </td><td>NA        </td><td>192.2692  </td><td>8.595     </td><td>FALSE     </td><td>17        </td><td> 8        </td><td> 18860.49 </td><td>FALSE     </td></tr>\n",
       "\t<tr><td>01/04/2011</td><td>32        </td><td>44.83     </td><td>3.461     </td><td>NA        </td><td>NA        </td><td>NA        </td><td>NA        </td><td>NA        </td><td>192.2692  </td><td>8.595     </td><td>FALSE     </td><td>13        </td><td>49        </td><td> 10804.36 </td><td>FALSE     </td></tr>\n",
       "\t<tr><td>01/04/2011</td><td>32        </td><td>44.83     </td><td>3.461     </td><td>NA        </td><td>NA        </td><td>NA        </td><td>NA        </td><td>NA        </td><td>192.2692  </td><td>8.595     </td><td>FALSE     </td><td>38        </td><td>52        </td><td>    12.12 </td><td>FALSE     </td></tr>\n",
       "\t<tr><td>01/04/2011</td><td>32        </td><td>44.83     </td><td>3.461     </td><td>NA        </td><td>NA        </td><td>NA        </td><td>NA        </td><td>NA        </td><td>192.2692  </td><td>8.595     </td><td>FALSE     </td><td>11        </td><td> 2        </td><td> 55870.72 </td><td>FALSE     </td></tr>\n",
       "\t<tr><td>01/04/2011</td><td>32        </td><td>44.83     </td><td>3.461     </td><td>NA        </td><td>NA        </td><td>NA        </td><td>NA        </td><td>NA        </td><td>192.2692  </td><td>8.595     </td><td>FALSE     </td><td>38        </td><td> 2        </td><td> 10923.23 </td><td>FALSE     </td></tr>\n",
       "\t<tr><td>01/04/2011</td><td>32        </td><td>44.83     </td><td>3.461     </td><td>NA        </td><td>NA        </td><td>NA        </td><td>NA        </td><td>NA        </td><td>192.2692  </td><td>8.595     </td><td>FALSE     </td><td>14        </td><td> 2        </td><td> 76068.04 </td><td>FALSE     </td></tr>\n",
       "\t<tr><td>01/04/2011</td><td>32        </td><td>44.83     </td><td>3.461     </td><td>NA        </td><td>NA        </td><td>NA        </td><td>NA        </td><td>NA        </td><td>192.2692  </td><td>8.595     </td><td>FALSE     </td><td>23        </td><td>46        </td><td> 33284.40 </td><td>FALSE     </td></tr>\n",
       "\t<tr><td>01/04/2011</td><td>32        </td><td>44.83     </td><td>3.461     </td><td>NA        </td><td>NA        </td><td>NA        </td><td>NA        </td><td>NA        </td><td>192.2692  </td><td>8.595     </td><td>FALSE     </td><td> 2        </td><td>59        </td><td>   505.95 </td><td>FALSE     </td></tr>\n",
       "\t<tr><td>01/04/2011</td><td>32        </td><td>44.83     </td><td>3.461     </td><td>NA        </td><td>NA        </td><td>NA        </td><td>NA        </td><td>NA        </td><td>192.2692  </td><td>8.595     </td><td>FALSE     </td><td>14        </td><td>38        </td><td>107747.68 </td><td>FALSE     </td></tr>\n",
       "\t<tr><td>01/04/2011</td><td>32        </td><td>44.83     </td><td>3.461     </td><td>NA        </td><td>NA        </td><td>NA        </td><td>NA        </td><td>NA        </td><td>192.2692  </td><td>8.595     </td><td>FALSE     </td><td>20        </td><td>36        </td><td>  2554.50 </td><td>FALSE     </td></tr>\n",
       "\t<tr><td>01/04/2011</td><td>32        </td><td>44.83     </td><td>3.461     </td><td>NA        </td><td>NA        </td><td>NA        </td><td>NA        </td><td>NA        </td><td>192.2692  </td><td>8.595     </td><td>FALSE     </td><td>13        </td><td>34        </td><td> 17881.25 </td><td>FALSE     </td></tr>\n",
       "\t<tr><td>01/04/2011</td><td>32        </td><td>44.83     </td><td>3.461     </td><td>NA        </td><td>NA        </td><td>NA        </td><td>NA        </td><td>NA        </td><td>192.2692  </td><td>8.595     </td><td>FALSE     </td><td>32        </td><td>83        </td><td>  3927.94 </td><td>FALSE     </td></tr>\n",
       "\t<tr><td>01/04/2011</td><td>32        </td><td>44.83     </td><td>3.461     </td><td>NA        </td><td>NA        </td><td>NA        </td><td>NA        </td><td>NA        </td><td>192.2692  </td><td>8.595     </td><td>FALSE     </td><td> 2        </td><td>37        </td><td>  4524.67 </td><td>FALSE     </td></tr>\n",
       "\t<tr><td>01/04/2011</td><td>32        </td><td>44.83     </td><td>3.461     </td><td>NA        </td><td>NA        </td><td>NA        </td><td>NA        </td><td>NA        </td><td>192.2692  </td><td>8.595     </td><td>FALSE     </td><td>23        </td><td>59        </td><td>   693.49 </td><td>FALSE     </td></tr>\n",
       "\t<tr><td>01/04/2011</td><td>32        </td><td>44.83     </td><td>3.461     </td><td>NA        </td><td>NA        </td><td>NA        </td><td>NA        </td><td>NA        </td><td>192.2692  </td><td>8.595     </td><td>FALSE     </td><td>36        </td><td>95        </td><td> 38309.02 </td><td>FALSE     </td></tr>\n",
       "\t<tr><td>01/04/2011</td><td>32        </td><td>44.83     </td><td>3.461     </td><td>NA        </td><td>NA        </td><td>NA        </td><td>NA        </td><td>NA        </td><td>192.2692  </td><td>8.595     </td><td>FALSE     </td><td>25        </td><td>17        </td><td>  9423.86 </td><td>FALSE     </td></tr>\n",
       "\t<tr><td>01/04/2011</td><td>32        </td><td>44.83     </td><td>3.461     </td><td>NA        </td><td>NA        </td><td>NA        </td><td>NA        </td><td>NA        </td><td>192.2692  </td><td>8.595     </td><td>FALSE     </td><td> 2        </td><td>94        </td><td> 69477.56 </td><td>FALSE     </td></tr>\n",
       "\t<tr><td>01/04/2011</td><td>32        </td><td>44.83     </td><td>3.461     </td><td>NA        </td><td>NA        </td><td>NA        </td><td>NA        </td><td>NA        </td><td>192.2692  </td><td>8.595     </td><td>FALSE     </td><td>12        </td><td>16        </td><td> 11714.88 </td><td>FALSE     </td></tr>\n",
       "\t<tr><td>01/04/2011</td><td>32        </td><td>44.83     </td><td>3.461     </td><td>NA        </td><td>NA        </td><td>NA        </td><td>NA        </td><td>NA        </td><td>192.2692  </td><td>8.595     </td><td>FALSE     </td><td>30        </td><td>13        </td><td> 11213.15 </td><td>FALSE     </td></tr>\n",
       "\t<tr><td>01/04/2011</td><td>32        </td><td>44.83     </td><td>3.461     </td><td>NA        </td><td>NA        </td><td>NA        </td><td>NA        </td><td>NA        </td><td>192.2692  </td><td>8.595     </td><td>FALSE     </td><td>23        </td><td>19        </td><td>   861.52 </td><td>FALSE     </td></tr>\n",
       "\t<tr><td>01/04/2011</td><td>32        </td><td>44.83     </td><td>3.461     </td><td>NA        </td><td>NA        </td><td>NA        </td><td>NA        </td><td>NA        </td><td>192.2692  </td><td>8.595     </td><td>FALSE     </td><td>41        </td><td>59        </td><td>   451.56 </td><td>FALSE     </td></tr>\n",
       "\t<tr><td>01/04/2011</td><td>32        </td><td>44.83     </td><td>3.461     </td><td>NA        </td><td>NA        </td><td>NA        </td><td>NA        </td><td>NA        </td><td>192.2692  </td><td>8.595     </td><td>FALSE     </td><td>14        </td><td>93        </td><td> 51876.26 </td><td>FALSE     </td></tr>\n",
       "\t<tr><td>01/04/2011</td><td>32        </td><td>44.83     </td><td>3.461     </td><td>NA        </td><td>NA        </td><td>NA        </td><td>NA        </td><td>NA        </td><td>192.2692  </td><td>8.595     </td><td>FALSE     </td><td>12        </td><td>85        </td><td>  1780.49 </td><td>FALSE     </td></tr>\n",
       "\t<tr><td>01/04/2011</td><td>32        </td><td>44.83     </td><td>3.461     </td><td>NA        </td><td>NA        </td><td>NA        </td><td>NA        </td><td>NA        </td><td>192.2692  </td><td>8.595     </td><td>FALSE     </td><td>41        </td><td>34        </td><td> 11782.48 </td><td>FALSE     </td></tr>\n",
       "\t<tr><td>01/04/2011</td><td>32        </td><td>44.83     </td><td>3.461     </td><td>NA        </td><td>NA        </td><td>NA        </td><td>NA        </td><td>NA        </td><td>192.2692  </td><td>8.595     </td><td>FALSE     </td><td>39        </td><td> 4        </td><td> 39961.96 </td><td>FALSE     </td></tr>\n",
       "\t<tr><td>01/04/2011</td><td>32        </td><td>44.83     </td><td>3.461     </td><td>NA        </td><td>NA        </td><td>NA        </td><td>NA        </td><td>NA        </td><td>192.2692  </td><td>8.595     </td><td>FALSE     </td><td>14        </td><td>82        </td><td> 21310.86 </td><td>FALSE     </td></tr>\n",
       "\t<tr><td>01/04/2011</td><td>32        </td><td>44.83     </td><td>3.461     </td><td>NA        </td><td>NA        </td><td>NA        </td><td>NA        </td><td>NA        </td><td>192.2692  </td><td>8.595     </td><td>FALSE     </td><td>25        </td><td>31        </td><td>  1348.76 </td><td>FALSE     </td></tr>\n",
       "</tbody>\n",
       "</table>\n"
      ],
      "text/latex": [
       "\\begin{tabular}{r|llllllllllllllll}\n",
       " Date & Store.x & Temperature & Fuel\\_Price & MarkDown1 & MarkDown2 & MarkDown3 & MarkDown4 & MarkDown5 & CPI & Unemployment & IsHoliday.x & Store.y & Dept & Weekly\\_Sales & IsHoliday.y\\\\\n",
       "\\hline\n",
       "\t 01/04/2011 & 32         & 44.83      & 3.461      & NA         & NA         & NA         & NA         & NA         & 192.2692   & 8.595      & FALSE      & 17         & 44         &  7816.50   & FALSE     \\\\\n",
       "\t 01/04/2011 & 32         & 44.83      & 3.461      & NA         & NA         & NA         & NA         & NA         & 192.2692   & 8.595      & FALSE      & 38         & 60         &   448.80   & FALSE     \\\\\n",
       "\t 01/04/2011 & 32         & 44.83      & 3.461      & NA         & NA         & NA         & NA         & NA         & 192.2692   & 8.595      & FALSE      & 15         &  4         & 11417.76   & FALSE     \\\\\n",
       "\t 01/04/2011 & 32         & 44.83      & 3.461      & NA         & NA         & NA         & NA         & NA         & 192.2692   & 8.595      & FALSE      &  4         &  8         & 58162.65   & FALSE     \\\\\n",
       "\t 01/04/2011 & 32         & 44.83      & 3.461      & NA         & NA         & NA         & NA         & NA         & 192.2692   & 8.595      & FALSE      & 22         & 20         &  6310.02   & FALSE     \\\\\n",
       "\t 01/04/2011 & 32         & 44.83      & 3.461      & NA         & NA         & NA         & NA         & NA         & 192.2692   & 8.595      & FALSE      & 32         & 10         & 16425.73   & FALSE     \\\\\n",
       "\t 01/04/2011 & 32         & 44.83      & 3.461      & NA         & NA         & NA         & NA         & NA         & 192.2692   & 8.595      & FALSE      & 23         & 80         &  1147.07   & FALSE     \\\\\n",
       "\t 01/04/2011 & 32         & 44.83      & 3.461      & NA         & NA         & NA         & NA         & NA         & 192.2692   & 8.595      & FALSE      & 26         & 49         &  4364.12   & FALSE     \\\\\n",
       "\t 01/04/2011 & 32         & 44.83      & 3.461      & NA         & NA         & NA         & NA         & NA         & 192.2692   & 8.595      & FALSE      & 21         & 79         & 20857.96   & FALSE     \\\\\n",
       "\t 01/04/2011 & 32         & 44.83      & 3.461      & NA         & NA         & NA         & NA         & NA         & 192.2692   & 8.595      & FALSE      & 19         & 82         & 18820.28   & FALSE     \\\\\n",
       "\t 01/04/2011 & 32         & 44.83      & 3.461      & NA         & NA         & NA         & NA         & NA         & 192.2692   & 8.595      & FALSE      & 18         & 13         & 39780.60   & FALSE     \\\\\n",
       "\t 01/04/2011 & 32         & 44.83      & 3.461      & NA         & NA         & NA         & NA         & NA         & 192.2692   & 8.595      & FALSE      & 26         & 41         &   943.50   & FALSE     \\\\\n",
       "\t 01/04/2011 & 32         & 44.83      & 3.461      & NA         & NA         & NA         & NA         & NA         & 192.2692   & 8.595      & FALSE      & 39         & 21         &  6094.30   & FALSE     \\\\\n",
       "\t 01/04/2011 & 32         & 44.83      & 3.461      & NA         & NA         & NA         & NA         & NA         & 192.2692   & 8.595      & FALSE      &  5         & 71         &   195.96   & FALSE     \\\\\n",
       "\t 01/04/2011 & 32         & 44.83      & 3.461      & NA         & NA         & NA         & NA         & NA         & 192.2692   & 8.595      & FALSE      & 41         & 28         &   545.46   & FALSE     \\\\\n",
       "\t 01/04/2011 & 32         & 44.83      & 3.461      & NA         & NA         & NA         & NA         & NA         & 192.2692   & 8.595      & FALSE      & 40         &  7         & 11928.35   & FALSE     \\\\\n",
       "\t 01/04/2011 & 32         & 44.83      & 3.461      & NA         & NA         & NA         & NA         & NA         & 192.2692   & 8.595      & FALSE      & 35         & 26         & 10308.18   & FALSE     \\\\\n",
       "\t 01/04/2011 & 32         & 44.83      & 3.461      & NA         & NA         & NA         & NA         & NA         & 192.2692   & 8.595      & FALSE      & 13         & 91         & 74767.44   & FALSE     \\\\\n",
       "\t 01/04/2011 & 32         & 44.83      & 3.461      & NA         & NA         & NA         & NA         & NA         & 192.2692   & 8.595      & FALSE      & 31         & 25         &  9759.50   & FALSE     \\\\\n",
       "\t 01/04/2011 & 32         & 44.83      & 3.461      & NA         & NA         & NA         & NA         & NA         & 192.2692   & 8.595      & FALSE      & 26         & 21         &  4849.97   & FALSE     \\\\\n",
       "\t 01/04/2011 & 32         & 44.83      & 3.461      & NA         & NA         & NA         & NA         & NA         & 192.2692   & 8.595      & FALSE      & 23         & 35         &  5595.25   & FALSE     \\\\\n",
       "\t 01/04/2011 & 32         & 44.83      & 3.461      & NA         & NA         & NA         & NA         & NA         & 192.2692   & 8.595      & FALSE      & 27         &  7         & 30583.88   & FALSE     \\\\\n",
       "\t 01/04/2011 & 32         & 44.83      & 3.461      & NA         & NA         & NA         & NA         & NA         & 192.2692   & 8.595      & FALSE      & 19         &  1         & 18559.78   & FALSE     \\\\\n",
       "\t 01/04/2011 & 32         & 44.83      & 3.461      & NA         & NA         & NA         & NA         & NA         & 192.2692   & 8.595      & FALSE      & 41         & 16         & 19988.86   & FALSE     \\\\\n",
       "\t 01/04/2011 & 32         & 44.83      & 3.461      & NA         & NA         & NA         & NA         & NA         & 192.2692   & 8.595      & FALSE      & 30         &  7         &   372.37   & FALSE     \\\\\n",
       "\t 01/04/2011 & 32         & 44.83      & 3.461      & NA         & NA         & NA         & NA         & NA         & 192.2692   & 8.595      & FALSE      & 28         & 31         &  1618.70   & FALSE     \\\\\n",
       "\t 01/04/2011 & 32         & 44.83      & 3.461      & NA         & NA         & NA         & NA         & NA         & 192.2692   & 8.595      & FALSE      & 27         & 52         &  1407.01   & FALSE     \\\\\n",
       "\t 01/04/2011 & 32         & 44.83      & 3.461      & NA         & NA         & NA         & NA         & NA         & 192.2692   & 8.595      & FALSE      &  2         & 58         & 18600.00   & FALSE     \\\\\n",
       "\t 01/04/2011 & 32         & 44.83      & 3.461      & NA         & NA         & NA         & NA         & NA         & 192.2692   & 8.595      & FALSE      & 16         & 27         &   600.62   & FALSE     \\\\\n",
       "\t 01/04/2011 & 32         & 44.83      & 3.461      & NA         & NA         & NA         & NA         & NA         & 192.2692   & 8.595      & FALSE      & 22         & 25         &  7659.42   & FALSE     \\\\\n",
       "\t ... & ... & ... & ... & ... & ... & ... & ... & ... & ... & ... & ... & ... & ... & ... & ...\\\\\n",
       "\t 01/04/2011 & 32         & 44.83      & 3.461      & NA         & NA         & NA         & NA         & NA         & 192.2692   & 8.595      & FALSE      & 33         & 25         &     14.00  & FALSE     \\\\\n",
       "\t 01/04/2011 & 32         & 44.83      & 3.461      & NA         & NA         & NA         & NA         & NA         & 192.2692   & 8.595      & FALSE      & 15         & 81         &   4337.25  & FALSE     \\\\\n",
       "\t 01/04/2011 & 32         & 44.83      & 3.461      & NA         & NA         & NA         & NA         & NA         & 192.2692   & 8.595      & FALSE      & 19         &  7         &  21402.40  & FALSE     \\\\\n",
       "\t 01/04/2011 & 32         & 44.83      & 3.461      & NA         & NA         & NA         & NA         & NA         & 192.2692   & 8.595      & FALSE      & 17         &  8         &  18860.49  & FALSE     \\\\\n",
       "\t 01/04/2011 & 32         & 44.83      & 3.461      & NA         & NA         & NA         & NA         & NA         & 192.2692   & 8.595      & FALSE      & 13         & 49         &  10804.36  & FALSE     \\\\\n",
       "\t 01/04/2011 & 32         & 44.83      & 3.461      & NA         & NA         & NA         & NA         & NA         & 192.2692   & 8.595      & FALSE      & 38         & 52         &     12.12  & FALSE     \\\\\n",
       "\t 01/04/2011 & 32         & 44.83      & 3.461      & NA         & NA         & NA         & NA         & NA         & 192.2692   & 8.595      & FALSE      & 11         &  2         &  55870.72  & FALSE     \\\\\n",
       "\t 01/04/2011 & 32         & 44.83      & 3.461      & NA         & NA         & NA         & NA         & NA         & 192.2692   & 8.595      & FALSE      & 38         &  2         &  10923.23  & FALSE     \\\\\n",
       "\t 01/04/2011 & 32         & 44.83      & 3.461      & NA         & NA         & NA         & NA         & NA         & 192.2692   & 8.595      & FALSE      & 14         &  2         &  76068.04  & FALSE     \\\\\n",
       "\t 01/04/2011 & 32         & 44.83      & 3.461      & NA         & NA         & NA         & NA         & NA         & 192.2692   & 8.595      & FALSE      & 23         & 46         &  33284.40  & FALSE     \\\\\n",
       "\t 01/04/2011 & 32         & 44.83      & 3.461      & NA         & NA         & NA         & NA         & NA         & 192.2692   & 8.595      & FALSE      &  2         & 59         &    505.95  & FALSE     \\\\\n",
       "\t 01/04/2011 & 32         & 44.83      & 3.461      & NA         & NA         & NA         & NA         & NA         & 192.2692   & 8.595      & FALSE      & 14         & 38         & 107747.68  & FALSE     \\\\\n",
       "\t 01/04/2011 & 32         & 44.83      & 3.461      & NA         & NA         & NA         & NA         & NA         & 192.2692   & 8.595      & FALSE      & 20         & 36         &   2554.50  & FALSE     \\\\\n",
       "\t 01/04/2011 & 32         & 44.83      & 3.461      & NA         & NA         & NA         & NA         & NA         & 192.2692   & 8.595      & FALSE      & 13         & 34         &  17881.25  & FALSE     \\\\\n",
       "\t 01/04/2011 & 32         & 44.83      & 3.461      & NA         & NA         & NA         & NA         & NA         & 192.2692   & 8.595      & FALSE      & 32         & 83         &   3927.94  & FALSE     \\\\\n",
       "\t 01/04/2011 & 32         & 44.83      & 3.461      & NA         & NA         & NA         & NA         & NA         & 192.2692   & 8.595      & FALSE      &  2         & 37         &   4524.67  & FALSE     \\\\\n",
       "\t 01/04/2011 & 32         & 44.83      & 3.461      & NA         & NA         & NA         & NA         & NA         & 192.2692   & 8.595      & FALSE      & 23         & 59         &    693.49  & FALSE     \\\\\n",
       "\t 01/04/2011 & 32         & 44.83      & 3.461      & NA         & NA         & NA         & NA         & NA         & 192.2692   & 8.595      & FALSE      & 36         & 95         &  38309.02  & FALSE     \\\\\n",
       "\t 01/04/2011 & 32         & 44.83      & 3.461      & NA         & NA         & NA         & NA         & NA         & 192.2692   & 8.595      & FALSE      & 25         & 17         &   9423.86  & FALSE     \\\\\n",
       "\t 01/04/2011 & 32         & 44.83      & 3.461      & NA         & NA         & NA         & NA         & NA         & 192.2692   & 8.595      & FALSE      &  2         & 94         &  69477.56  & FALSE     \\\\\n",
       "\t 01/04/2011 & 32         & 44.83      & 3.461      & NA         & NA         & NA         & NA         & NA         & 192.2692   & 8.595      & FALSE      & 12         & 16         &  11714.88  & FALSE     \\\\\n",
       "\t 01/04/2011 & 32         & 44.83      & 3.461      & NA         & NA         & NA         & NA         & NA         & 192.2692   & 8.595      & FALSE      & 30         & 13         &  11213.15  & FALSE     \\\\\n",
       "\t 01/04/2011 & 32         & 44.83      & 3.461      & NA         & NA         & NA         & NA         & NA         & 192.2692   & 8.595      & FALSE      & 23         & 19         &    861.52  & FALSE     \\\\\n",
       "\t 01/04/2011 & 32         & 44.83      & 3.461      & NA         & NA         & NA         & NA         & NA         & 192.2692   & 8.595      & FALSE      & 41         & 59         &    451.56  & FALSE     \\\\\n",
       "\t 01/04/2011 & 32         & 44.83      & 3.461      & NA         & NA         & NA         & NA         & NA         & 192.2692   & 8.595      & FALSE      & 14         & 93         &  51876.26  & FALSE     \\\\\n",
       "\t 01/04/2011 & 32         & 44.83      & 3.461      & NA         & NA         & NA         & NA         & NA         & 192.2692   & 8.595      & FALSE      & 12         & 85         &   1780.49  & FALSE     \\\\\n",
       "\t 01/04/2011 & 32         & 44.83      & 3.461      & NA         & NA         & NA         & NA         & NA         & 192.2692   & 8.595      & FALSE      & 41         & 34         &  11782.48  & FALSE     \\\\\n",
       "\t 01/04/2011 & 32         & 44.83      & 3.461      & NA         & NA         & NA         & NA         & NA         & 192.2692   & 8.595      & FALSE      & 39         &  4         &  39961.96  & FALSE     \\\\\n",
       "\t 01/04/2011 & 32         & 44.83      & 3.461      & NA         & NA         & NA         & NA         & NA         & 192.2692   & 8.595      & FALSE      & 14         & 82         &  21310.86  & FALSE     \\\\\n",
       "\t 01/04/2011 & 32         & 44.83      & 3.461      & NA         & NA         & NA         & NA         & NA         & 192.2692   & 8.595      & FALSE      & 25         & 31         &   1348.76  & FALSE     \\\\\n",
       "\\end{tabular}\n"
      ],
      "text/markdown": [
       "\n",
       "| Date | Store.x | Temperature | Fuel_Price | MarkDown1 | MarkDown2 | MarkDown3 | MarkDown4 | MarkDown5 | CPI | Unemployment | IsHoliday.x | Store.y | Dept | Weekly_Sales | IsHoliday.y |\n",
       "|---|---|---|---|---|---|---|---|---|---|---|---|---|---|---|---|\n",
       "| 01/04/2011 | 32         | 44.83      | 3.461      | NA         | NA         | NA         | NA         | NA         | 192.2692   | 8.595      | FALSE      | 17         | 44         |  7816.50   | FALSE      |\n",
       "| 01/04/2011 | 32         | 44.83      | 3.461      | NA         | NA         | NA         | NA         | NA         | 192.2692   | 8.595      | FALSE      | 38         | 60         |   448.80   | FALSE      |\n",
       "| 01/04/2011 | 32         | 44.83      | 3.461      | NA         | NA         | NA         | NA         | NA         | 192.2692   | 8.595      | FALSE      | 15         |  4         | 11417.76   | FALSE      |\n",
       "| 01/04/2011 | 32         | 44.83      | 3.461      | NA         | NA         | NA         | NA         | NA         | 192.2692   | 8.595      | FALSE      |  4         |  8         | 58162.65   | FALSE      |\n",
       "| 01/04/2011 | 32         | 44.83      | 3.461      | NA         | NA         | NA         | NA         | NA         | 192.2692   | 8.595      | FALSE      | 22         | 20         |  6310.02   | FALSE      |\n",
       "| 01/04/2011 | 32         | 44.83      | 3.461      | NA         | NA         | NA         | NA         | NA         | 192.2692   | 8.595      | FALSE      | 32         | 10         | 16425.73   | FALSE      |\n",
       "| 01/04/2011 | 32         | 44.83      | 3.461      | NA         | NA         | NA         | NA         | NA         | 192.2692   | 8.595      | FALSE      | 23         | 80         |  1147.07   | FALSE      |\n",
       "| 01/04/2011 | 32         | 44.83      | 3.461      | NA         | NA         | NA         | NA         | NA         | 192.2692   | 8.595      | FALSE      | 26         | 49         |  4364.12   | FALSE      |\n",
       "| 01/04/2011 | 32         | 44.83      | 3.461      | NA         | NA         | NA         | NA         | NA         | 192.2692   | 8.595      | FALSE      | 21         | 79         | 20857.96   | FALSE      |\n",
       "| 01/04/2011 | 32         | 44.83      | 3.461      | NA         | NA         | NA         | NA         | NA         | 192.2692   | 8.595      | FALSE      | 19         | 82         | 18820.28   | FALSE      |\n",
       "| 01/04/2011 | 32         | 44.83      | 3.461      | NA         | NA         | NA         | NA         | NA         | 192.2692   | 8.595      | FALSE      | 18         | 13         | 39780.60   | FALSE      |\n",
       "| 01/04/2011 | 32         | 44.83      | 3.461      | NA         | NA         | NA         | NA         | NA         | 192.2692   | 8.595      | FALSE      | 26         | 41         |   943.50   | FALSE      |\n",
       "| 01/04/2011 | 32         | 44.83      | 3.461      | NA         | NA         | NA         | NA         | NA         | 192.2692   | 8.595      | FALSE      | 39         | 21         |  6094.30   | FALSE      |\n",
       "| 01/04/2011 | 32         | 44.83      | 3.461      | NA         | NA         | NA         | NA         | NA         | 192.2692   | 8.595      | FALSE      |  5         | 71         |   195.96   | FALSE      |\n",
       "| 01/04/2011 | 32         | 44.83      | 3.461      | NA         | NA         | NA         | NA         | NA         | 192.2692   | 8.595      | FALSE      | 41         | 28         |   545.46   | FALSE      |\n",
       "| 01/04/2011 | 32         | 44.83      | 3.461      | NA         | NA         | NA         | NA         | NA         | 192.2692   | 8.595      | FALSE      | 40         |  7         | 11928.35   | FALSE      |\n",
       "| 01/04/2011 | 32         | 44.83      | 3.461      | NA         | NA         | NA         | NA         | NA         | 192.2692   | 8.595      | FALSE      | 35         | 26         | 10308.18   | FALSE      |\n",
       "| 01/04/2011 | 32         | 44.83      | 3.461      | NA         | NA         | NA         | NA         | NA         | 192.2692   | 8.595      | FALSE      | 13         | 91         | 74767.44   | FALSE      |\n",
       "| 01/04/2011 | 32         | 44.83      | 3.461      | NA         | NA         | NA         | NA         | NA         | 192.2692   | 8.595      | FALSE      | 31         | 25         |  9759.50   | FALSE      |\n",
       "| 01/04/2011 | 32         | 44.83      | 3.461      | NA         | NA         | NA         | NA         | NA         | 192.2692   | 8.595      | FALSE      | 26         | 21         |  4849.97   | FALSE      |\n",
       "| 01/04/2011 | 32         | 44.83      | 3.461      | NA         | NA         | NA         | NA         | NA         | 192.2692   | 8.595      | FALSE      | 23         | 35         |  5595.25   | FALSE      |\n",
       "| 01/04/2011 | 32         | 44.83      | 3.461      | NA         | NA         | NA         | NA         | NA         | 192.2692   | 8.595      | FALSE      | 27         |  7         | 30583.88   | FALSE      |\n",
       "| 01/04/2011 | 32         | 44.83      | 3.461      | NA         | NA         | NA         | NA         | NA         | 192.2692   | 8.595      | FALSE      | 19         |  1         | 18559.78   | FALSE      |\n",
       "| 01/04/2011 | 32         | 44.83      | 3.461      | NA         | NA         | NA         | NA         | NA         | 192.2692   | 8.595      | FALSE      | 41         | 16         | 19988.86   | FALSE      |\n",
       "| 01/04/2011 | 32         | 44.83      | 3.461      | NA         | NA         | NA         | NA         | NA         | 192.2692   | 8.595      | FALSE      | 30         |  7         |   372.37   | FALSE      |\n",
       "| 01/04/2011 | 32         | 44.83      | 3.461      | NA         | NA         | NA         | NA         | NA         | 192.2692   | 8.595      | FALSE      | 28         | 31         |  1618.70   | FALSE      |\n",
       "| 01/04/2011 | 32         | 44.83      | 3.461      | NA         | NA         | NA         | NA         | NA         | 192.2692   | 8.595      | FALSE      | 27         | 52         |  1407.01   | FALSE      |\n",
       "| 01/04/2011 | 32         | 44.83      | 3.461      | NA         | NA         | NA         | NA         | NA         | 192.2692   | 8.595      | FALSE      |  2         | 58         | 18600.00   | FALSE      |\n",
       "| 01/04/2011 | 32         | 44.83      | 3.461      | NA         | NA         | NA         | NA         | NA         | 192.2692   | 8.595      | FALSE      | 16         | 27         |   600.62   | FALSE      |\n",
       "| 01/04/2011 | 32         | 44.83      | 3.461      | NA         | NA         | NA         | NA         | NA         | 192.2692   | 8.595      | FALSE      | 22         | 25         |  7659.42   | FALSE      |\n",
       "| ... | ... | ... | ... | ... | ... | ... | ... | ... | ... | ... | ... | ... | ... | ... | ... |\n",
       "| 01/04/2011 | 32         | 44.83      | 3.461      | NA         | NA         | NA         | NA         | NA         | 192.2692   | 8.595      | FALSE      | 33         | 25         |     14.00  | FALSE      |\n",
       "| 01/04/2011 | 32         | 44.83      | 3.461      | NA         | NA         | NA         | NA         | NA         | 192.2692   | 8.595      | FALSE      | 15         | 81         |   4337.25  | FALSE      |\n",
       "| 01/04/2011 | 32         | 44.83      | 3.461      | NA         | NA         | NA         | NA         | NA         | 192.2692   | 8.595      | FALSE      | 19         |  7         |  21402.40  | FALSE      |\n",
       "| 01/04/2011 | 32         | 44.83      | 3.461      | NA         | NA         | NA         | NA         | NA         | 192.2692   | 8.595      | FALSE      | 17         |  8         |  18860.49  | FALSE      |\n",
       "| 01/04/2011 | 32         | 44.83      | 3.461      | NA         | NA         | NA         | NA         | NA         | 192.2692   | 8.595      | FALSE      | 13         | 49         |  10804.36  | FALSE      |\n",
       "| 01/04/2011 | 32         | 44.83      | 3.461      | NA         | NA         | NA         | NA         | NA         | 192.2692   | 8.595      | FALSE      | 38         | 52         |     12.12  | FALSE      |\n",
       "| 01/04/2011 | 32         | 44.83      | 3.461      | NA         | NA         | NA         | NA         | NA         | 192.2692   | 8.595      | FALSE      | 11         |  2         |  55870.72  | FALSE      |\n",
       "| 01/04/2011 | 32         | 44.83      | 3.461      | NA         | NA         | NA         | NA         | NA         | 192.2692   | 8.595      | FALSE      | 38         |  2         |  10923.23  | FALSE      |\n",
       "| 01/04/2011 | 32         | 44.83      | 3.461      | NA         | NA         | NA         | NA         | NA         | 192.2692   | 8.595      | FALSE      | 14         |  2         |  76068.04  | FALSE      |\n",
       "| 01/04/2011 | 32         | 44.83      | 3.461      | NA         | NA         | NA         | NA         | NA         | 192.2692   | 8.595      | FALSE      | 23         | 46         |  33284.40  | FALSE      |\n",
       "| 01/04/2011 | 32         | 44.83      | 3.461      | NA         | NA         | NA         | NA         | NA         | 192.2692   | 8.595      | FALSE      |  2         | 59         |    505.95  | FALSE      |\n",
       "| 01/04/2011 | 32         | 44.83      | 3.461      | NA         | NA         | NA         | NA         | NA         | 192.2692   | 8.595      | FALSE      | 14         | 38         | 107747.68  | FALSE      |\n",
       "| 01/04/2011 | 32         | 44.83      | 3.461      | NA         | NA         | NA         | NA         | NA         | 192.2692   | 8.595      | FALSE      | 20         | 36         |   2554.50  | FALSE      |\n",
       "| 01/04/2011 | 32         | 44.83      | 3.461      | NA         | NA         | NA         | NA         | NA         | 192.2692   | 8.595      | FALSE      | 13         | 34         |  17881.25  | FALSE      |\n",
       "| 01/04/2011 | 32         | 44.83      | 3.461      | NA         | NA         | NA         | NA         | NA         | 192.2692   | 8.595      | FALSE      | 32         | 83         |   3927.94  | FALSE      |\n",
       "| 01/04/2011 | 32         | 44.83      | 3.461      | NA         | NA         | NA         | NA         | NA         | 192.2692   | 8.595      | FALSE      |  2         | 37         |   4524.67  | FALSE      |\n",
       "| 01/04/2011 | 32         | 44.83      | 3.461      | NA         | NA         | NA         | NA         | NA         | 192.2692   | 8.595      | FALSE      | 23         | 59         |    693.49  | FALSE      |\n",
       "| 01/04/2011 | 32         | 44.83      | 3.461      | NA         | NA         | NA         | NA         | NA         | 192.2692   | 8.595      | FALSE      | 36         | 95         |  38309.02  | FALSE      |\n",
       "| 01/04/2011 | 32         | 44.83      | 3.461      | NA         | NA         | NA         | NA         | NA         | 192.2692   | 8.595      | FALSE      | 25         | 17         |   9423.86  | FALSE      |\n",
       "| 01/04/2011 | 32         | 44.83      | 3.461      | NA         | NA         | NA         | NA         | NA         | 192.2692   | 8.595      | FALSE      |  2         | 94         |  69477.56  | FALSE      |\n",
       "| 01/04/2011 | 32         | 44.83      | 3.461      | NA         | NA         | NA         | NA         | NA         | 192.2692   | 8.595      | FALSE      | 12         | 16         |  11714.88  | FALSE      |\n",
       "| 01/04/2011 | 32         | 44.83      | 3.461      | NA         | NA         | NA         | NA         | NA         | 192.2692   | 8.595      | FALSE      | 30         | 13         |  11213.15  | FALSE      |\n",
       "| 01/04/2011 | 32         | 44.83      | 3.461      | NA         | NA         | NA         | NA         | NA         | 192.2692   | 8.595      | FALSE      | 23         | 19         |    861.52  | FALSE      |\n",
       "| 01/04/2011 | 32         | 44.83      | 3.461      | NA         | NA         | NA         | NA         | NA         | 192.2692   | 8.595      | FALSE      | 41         | 59         |    451.56  | FALSE      |\n",
       "| 01/04/2011 | 32         | 44.83      | 3.461      | NA         | NA         | NA         | NA         | NA         | 192.2692   | 8.595      | FALSE      | 14         | 93         |  51876.26  | FALSE      |\n",
       "| 01/04/2011 | 32         | 44.83      | 3.461      | NA         | NA         | NA         | NA         | NA         | 192.2692   | 8.595      | FALSE      | 12         | 85         |   1780.49  | FALSE      |\n",
       "| 01/04/2011 | 32         | 44.83      | 3.461      | NA         | NA         | NA         | NA         | NA         | 192.2692   | 8.595      | FALSE      | 41         | 34         |  11782.48  | FALSE      |\n",
       "| 01/04/2011 | 32         | 44.83      | 3.461      | NA         | NA         | NA         | NA         | NA         | 192.2692   | 8.595      | FALSE      | 39         |  4         |  39961.96  | FALSE      |\n",
       "| 01/04/2011 | 32         | 44.83      | 3.461      | NA         | NA         | NA         | NA         | NA         | 192.2692   | 8.595      | FALSE      | 14         | 82         |  21310.86  | FALSE      |\n",
       "| 01/04/2011 | 32         | 44.83      | 3.461      | NA         | NA         | NA         | NA         | NA         | 192.2692   | 8.595      | FALSE      | 25         | 31         |   1348.76  | FALSE      |\n",
       "\n"
      ],
      "text/plain": [
       "    Date       Store.x Temperature Fuel_Price MarkDown1 MarkDown2 MarkDown3\n",
       "1   01/04/2011 32      44.83       3.461      NA        NA        NA       \n",
       "2   01/04/2011 32      44.83       3.461      NA        NA        NA       \n",
       "3   01/04/2011 32      44.83       3.461      NA        NA        NA       \n",
       "4   01/04/2011 32      44.83       3.461      NA        NA        NA       \n",
       "5   01/04/2011 32      44.83       3.461      NA        NA        NA       \n",
       "6   01/04/2011 32      44.83       3.461      NA        NA        NA       \n",
       "7   01/04/2011 32      44.83       3.461      NA        NA        NA       \n",
       "8   01/04/2011 32      44.83       3.461      NA        NA        NA       \n",
       "9   01/04/2011 32      44.83       3.461      NA        NA        NA       \n",
       "10  01/04/2011 32      44.83       3.461      NA        NA        NA       \n",
       "11  01/04/2011 32      44.83       3.461      NA        NA        NA       \n",
       "12  01/04/2011 32      44.83       3.461      NA        NA        NA       \n",
       "13  01/04/2011 32      44.83       3.461      NA        NA        NA       \n",
       "14  01/04/2011 32      44.83       3.461      NA        NA        NA       \n",
       "15  01/04/2011 32      44.83       3.461      NA        NA        NA       \n",
       "16  01/04/2011 32      44.83       3.461      NA        NA        NA       \n",
       "17  01/04/2011 32      44.83       3.461      NA        NA        NA       \n",
       "18  01/04/2011 32      44.83       3.461      NA        NA        NA       \n",
       "19  01/04/2011 32      44.83       3.461      NA        NA        NA       \n",
       "20  01/04/2011 32      44.83       3.461      NA        NA        NA       \n",
       "21  01/04/2011 32      44.83       3.461      NA        NA        NA       \n",
       "22  01/04/2011 32      44.83       3.461      NA        NA        NA       \n",
       "23  01/04/2011 32      44.83       3.461      NA        NA        NA       \n",
       "24  01/04/2011 32      44.83       3.461      NA        NA        NA       \n",
       "25  01/04/2011 32      44.83       3.461      NA        NA        NA       \n",
       "26  01/04/2011 32      44.83       3.461      NA        NA        NA       \n",
       "27  01/04/2011 32      44.83       3.461      NA        NA        NA       \n",
       "28  01/04/2011 32      44.83       3.461      NA        NA        NA       \n",
       "29  01/04/2011 32      44.83       3.461      NA        NA        NA       \n",
       "30  01/04/2011 32      44.83       3.461      NA        NA        NA       \n",
       "... ...        ...     ...         ...        ...       ...       ...      \n",
       "71  01/04/2011 32      44.83       3.461      NA        NA        NA       \n",
       "72  01/04/2011 32      44.83       3.461      NA        NA        NA       \n",
       "73  01/04/2011 32      44.83       3.461      NA        NA        NA       \n",
       "74  01/04/2011 32      44.83       3.461      NA        NA        NA       \n",
       "75  01/04/2011 32      44.83       3.461      NA        NA        NA       \n",
       "76  01/04/2011 32      44.83       3.461      NA        NA        NA       \n",
       "77  01/04/2011 32      44.83       3.461      NA        NA        NA       \n",
       "78  01/04/2011 32      44.83       3.461      NA        NA        NA       \n",
       "79  01/04/2011 32      44.83       3.461      NA        NA        NA       \n",
       "80  01/04/2011 32      44.83       3.461      NA        NA        NA       \n",
       "81  01/04/2011 32      44.83       3.461      NA        NA        NA       \n",
       "82  01/04/2011 32      44.83       3.461      NA        NA        NA       \n",
       "83  01/04/2011 32      44.83       3.461      NA        NA        NA       \n",
       "84  01/04/2011 32      44.83       3.461      NA        NA        NA       \n",
       "85  01/04/2011 32      44.83       3.461      NA        NA        NA       \n",
       "86  01/04/2011 32      44.83       3.461      NA        NA        NA       \n",
       "87  01/04/2011 32      44.83       3.461      NA        NA        NA       \n",
       "88  01/04/2011 32      44.83       3.461      NA        NA        NA       \n",
       "89  01/04/2011 32      44.83       3.461      NA        NA        NA       \n",
       "90  01/04/2011 32      44.83       3.461      NA        NA        NA       \n",
       "91  01/04/2011 32      44.83       3.461      NA        NA        NA       \n",
       "92  01/04/2011 32      44.83       3.461      NA        NA        NA       \n",
       "93  01/04/2011 32      44.83       3.461      NA        NA        NA       \n",
       "94  01/04/2011 32      44.83       3.461      NA        NA        NA       \n",
       "95  01/04/2011 32      44.83       3.461      NA        NA        NA       \n",
       "96  01/04/2011 32      44.83       3.461      NA        NA        NA       \n",
       "97  01/04/2011 32      44.83       3.461      NA        NA        NA       \n",
       "98  01/04/2011 32      44.83       3.461      NA        NA        NA       \n",
       "99  01/04/2011 32      44.83       3.461      NA        NA        NA       \n",
       "100 01/04/2011 32      44.83       3.461      NA        NA        NA       \n",
       "    MarkDown4 MarkDown5 CPI      Unemployment IsHoliday.x Store.y Dept\n",
       "1   NA        NA        192.2692 8.595        FALSE       17      44  \n",
       "2   NA        NA        192.2692 8.595        FALSE       38      60  \n",
       "3   NA        NA        192.2692 8.595        FALSE       15       4  \n",
       "4   NA        NA        192.2692 8.595        FALSE        4       8  \n",
       "5   NA        NA        192.2692 8.595        FALSE       22      20  \n",
       "6   NA        NA        192.2692 8.595        FALSE       32      10  \n",
       "7   NA        NA        192.2692 8.595        FALSE       23      80  \n",
       "8   NA        NA        192.2692 8.595        FALSE       26      49  \n",
       "9   NA        NA        192.2692 8.595        FALSE       21      79  \n",
       "10  NA        NA        192.2692 8.595        FALSE       19      82  \n",
       "11  NA        NA        192.2692 8.595        FALSE       18      13  \n",
       "12  NA        NA        192.2692 8.595        FALSE       26      41  \n",
       "13  NA        NA        192.2692 8.595        FALSE       39      21  \n",
       "14  NA        NA        192.2692 8.595        FALSE        5      71  \n",
       "15  NA        NA        192.2692 8.595        FALSE       41      28  \n",
       "16  NA        NA        192.2692 8.595        FALSE       40       7  \n",
       "17  NA        NA        192.2692 8.595        FALSE       35      26  \n",
       "18  NA        NA        192.2692 8.595        FALSE       13      91  \n",
       "19  NA        NA        192.2692 8.595        FALSE       31      25  \n",
       "20  NA        NA        192.2692 8.595        FALSE       26      21  \n",
       "21  NA        NA        192.2692 8.595        FALSE       23      35  \n",
       "22  NA        NA        192.2692 8.595        FALSE       27       7  \n",
       "23  NA        NA        192.2692 8.595        FALSE       19       1  \n",
       "24  NA        NA        192.2692 8.595        FALSE       41      16  \n",
       "25  NA        NA        192.2692 8.595        FALSE       30       7  \n",
       "26  NA        NA        192.2692 8.595        FALSE       28      31  \n",
       "27  NA        NA        192.2692 8.595        FALSE       27      52  \n",
       "28  NA        NA        192.2692 8.595        FALSE        2      58  \n",
       "29  NA        NA        192.2692 8.595        FALSE       16      27  \n",
       "30  NA        NA        192.2692 8.595        FALSE       22      25  \n",
       "... ...       ...       ...      ...          ...         ...     ... \n",
       "71  NA        NA        192.2692 8.595        FALSE       33      25  \n",
       "72  NA        NA        192.2692 8.595        FALSE       15      81  \n",
       "73  NA        NA        192.2692 8.595        FALSE       19       7  \n",
       "74  NA        NA        192.2692 8.595        FALSE       17       8  \n",
       "75  NA        NA        192.2692 8.595        FALSE       13      49  \n",
       "76  NA        NA        192.2692 8.595        FALSE       38      52  \n",
       "77  NA        NA        192.2692 8.595        FALSE       11       2  \n",
       "78  NA        NA        192.2692 8.595        FALSE       38       2  \n",
       "79  NA        NA        192.2692 8.595        FALSE       14       2  \n",
       "80  NA        NA        192.2692 8.595        FALSE       23      46  \n",
       "81  NA        NA        192.2692 8.595        FALSE        2      59  \n",
       "82  NA        NA        192.2692 8.595        FALSE       14      38  \n",
       "83  NA        NA        192.2692 8.595        FALSE       20      36  \n",
       "84  NA        NA        192.2692 8.595        FALSE       13      34  \n",
       "85  NA        NA        192.2692 8.595        FALSE       32      83  \n",
       "86  NA        NA        192.2692 8.595        FALSE        2      37  \n",
       "87  NA        NA        192.2692 8.595        FALSE       23      59  \n",
       "88  NA        NA        192.2692 8.595        FALSE       36      95  \n",
       "89  NA        NA        192.2692 8.595        FALSE       25      17  \n",
       "90  NA        NA        192.2692 8.595        FALSE        2      94  \n",
       "91  NA        NA        192.2692 8.595        FALSE       12      16  \n",
       "92  NA        NA        192.2692 8.595        FALSE       30      13  \n",
       "93  NA        NA        192.2692 8.595        FALSE       23      19  \n",
       "94  NA        NA        192.2692 8.595        FALSE       41      59  \n",
       "95  NA        NA        192.2692 8.595        FALSE       14      93  \n",
       "96  NA        NA        192.2692 8.595        FALSE       12      85  \n",
       "97  NA        NA        192.2692 8.595        FALSE       41      34  \n",
       "98  NA        NA        192.2692 8.595        FALSE       39       4  \n",
       "99  NA        NA        192.2692 8.595        FALSE       14      82  \n",
       "100 NA        NA        192.2692 8.595        FALSE       25      31  \n",
       "    Weekly_Sales IsHoliday.y\n",
       "1    7816.50     FALSE      \n",
       "2     448.80     FALSE      \n",
       "3   11417.76     FALSE      \n",
       "4   58162.65     FALSE      \n",
       "5    6310.02     FALSE      \n",
       "6   16425.73     FALSE      \n",
       "7    1147.07     FALSE      \n",
       "8    4364.12     FALSE      \n",
       "9   20857.96     FALSE      \n",
       "10  18820.28     FALSE      \n",
       "11  39780.60     FALSE      \n",
       "12    943.50     FALSE      \n",
       "13   6094.30     FALSE      \n",
       "14    195.96     FALSE      \n",
       "15    545.46     FALSE      \n",
       "16  11928.35     FALSE      \n",
       "17  10308.18     FALSE      \n",
       "18  74767.44     FALSE      \n",
       "19   9759.50     FALSE      \n",
       "20   4849.97     FALSE      \n",
       "21   5595.25     FALSE      \n",
       "22  30583.88     FALSE      \n",
       "23  18559.78     FALSE      \n",
       "24  19988.86     FALSE      \n",
       "25    372.37     FALSE      \n",
       "26   1618.70     FALSE      \n",
       "27   1407.01     FALSE      \n",
       "28  18600.00     FALSE      \n",
       "29    600.62     FALSE      \n",
       "30   7659.42     FALSE      \n",
       "... ...          ...        \n",
       "71      14.00    FALSE      \n",
       "72    4337.25    FALSE      \n",
       "73   21402.40    FALSE      \n",
       "74   18860.49    FALSE      \n",
       "75   10804.36    FALSE      \n",
       "76      12.12    FALSE      \n",
       "77   55870.72    FALSE      \n",
       "78   10923.23    FALSE      \n",
       "79   76068.04    FALSE      \n",
       "80   33284.40    FALSE      \n",
       "81     505.95    FALSE      \n",
       "82  107747.68    FALSE      \n",
       "83    2554.50    FALSE      \n",
       "84   17881.25    FALSE      \n",
       "85    3927.94    FALSE      \n",
       "86    4524.67    FALSE      \n",
       "87     693.49    FALSE      \n",
       "88   38309.02    FALSE      \n",
       "89    9423.86    FALSE      \n",
       "90   69477.56    FALSE      \n",
       "91   11714.88    FALSE      \n",
       "92   11213.15    FALSE      \n",
       "93     861.52    FALSE      \n",
       "94     451.56    FALSE      \n",
       "95   51876.26    FALSE      \n",
       "96    1780.49    FALSE      \n",
       "97   11782.48    FALSE      \n",
       "98   39961.96    FALSE      \n",
       "99   21310.86    FALSE      \n",
       "100   1348.76    FALSE      "
      ]
     },
     "metadata": {},
     "output_type": "display_data"
    },
    {
     "data": {
      "text/html": [
       "18970650"
      ],
      "text/latex": [
       "18970650"
      ],
      "text/markdown": [
       "18970650"
      ],
      "text/plain": [
       "[1] 18970650"
      ]
     },
     "metadata": {},
     "output_type": "display_data"
    }
   ],
   "source": [
    "head(merge1,n=10)\n",
    "nrow(merge1)"
   ]
  },
  {
   "cell_type": "markdown",
   "metadata": {},
   "source": [
    "Merging datasets features and store by store number into merge2."
   ]
  },
  {
   "cell_type": "code",
   "execution_count": 12,
   "metadata": {},
   "outputs": [],
   "source": [
    "merge2<-merge(new_feature, new_store, by = \"Store\",all.x=TRUE)"
   ]
  },
  {
   "cell_type": "code",
   "execution_count": 13,
   "metadata": {
    "scrolled": true
   },
   "outputs": [
    {
     "data": {
      "text/html": [
       "<table>\n",
       "<thead><tr><th scope=col>Store</th><th scope=col>Date</th><th scope=col>Temperature</th><th scope=col>Fuel_Price</th><th scope=col>MarkDown1</th><th scope=col>MarkDown2</th><th scope=col>MarkDown3</th><th scope=col>MarkDown4</th><th scope=col>MarkDown5</th><th scope=col>CPI</th><th scope=col>Unemployment</th><th scope=col>IsHoliday</th><th scope=col>Type</th><th scope=col>Size</th></tr></thead>\n",
       "<tbody>\n",
       "\t<tr><td>1         </td><td>05/02/2010</td><td>42.31     </td><td>2.572     </td><td>NA        </td><td>NA        </td><td>NA        </td><td>NA        </td><td>NA        </td><td>211.0964  </td><td>8.106     </td><td>FALSE     </td><td>A         </td><td>151315    </td></tr>\n",
       "\t<tr><td>1         </td><td>12/02/2010</td><td>38.51     </td><td>2.548     </td><td>NA        </td><td>NA        </td><td>NA        </td><td>NA        </td><td>NA        </td><td>211.2422  </td><td>8.106     </td><td> TRUE     </td><td>A         </td><td>151315    </td></tr>\n",
       "\t<tr><td>1         </td><td>19/02/2010</td><td>39.93     </td><td>2.514     </td><td>NA        </td><td>NA        </td><td>NA        </td><td>NA        </td><td>NA        </td><td>211.2891  </td><td>8.106     </td><td>FALSE     </td><td>A         </td><td>151315    </td></tr>\n",
       "\t<tr><td>1         </td><td>26/02/2010</td><td>46.63     </td><td>2.561     </td><td>NA        </td><td>NA        </td><td>NA        </td><td>NA        </td><td>NA        </td><td>211.3196  </td><td>8.106     </td><td>FALSE     </td><td>A         </td><td>151315    </td></tr>\n",
       "\t<tr><td>1         </td><td>05/03/2010</td><td>46.50     </td><td>2.625     </td><td>NA        </td><td>NA        </td><td>NA        </td><td>NA        </td><td>NA        </td><td>211.3501  </td><td>8.106     </td><td>FALSE     </td><td>A         </td><td>151315    </td></tr>\n",
       "\t<tr><td>1         </td><td>12/03/2010</td><td>57.79     </td><td>2.667     </td><td>NA        </td><td>NA        </td><td>NA        </td><td>NA        </td><td>NA        </td><td>211.3806  </td><td>8.106     </td><td>FALSE     </td><td>A         </td><td>151315    </td></tr>\n",
       "\t<tr><td>1         </td><td>19/03/2010</td><td>54.58     </td><td>2.720     </td><td>NA        </td><td>NA        </td><td>NA        </td><td>NA        </td><td>NA        </td><td>211.2156  </td><td>8.106     </td><td>FALSE     </td><td>A         </td><td>151315    </td></tr>\n",
       "\t<tr><td>1         </td><td>26/03/2010</td><td>51.45     </td><td>2.732     </td><td>NA        </td><td>NA        </td><td>NA        </td><td>NA        </td><td>NA        </td><td>211.0180  </td><td>8.106     </td><td>FALSE     </td><td>A         </td><td>151315    </td></tr>\n",
       "\t<tr><td>1         </td><td>02/04/2010</td><td>62.27     </td><td>2.719     </td><td>NA        </td><td>NA        </td><td>NA        </td><td>NA        </td><td>NA        </td><td>210.8204  </td><td>7.808     </td><td>FALSE     </td><td>A         </td><td>151315    </td></tr>\n",
       "\t<tr><td>1         </td><td>09/04/2010</td><td>65.86     </td><td>2.770     </td><td>NA        </td><td>NA        </td><td>NA        </td><td>NA        </td><td>NA        </td><td>210.6229  </td><td>7.808     </td><td>FALSE     </td><td>A         </td><td>151315    </td></tr>\n",
       "\t<tr><td>1         </td><td>16/04/2010</td><td>66.32     </td><td>2.808     </td><td>NA        </td><td>NA        </td><td>NA        </td><td>NA        </td><td>NA        </td><td>210.4887  </td><td>7.808     </td><td>FALSE     </td><td>A         </td><td>151315    </td></tr>\n",
       "\t<tr><td>1         </td><td>23/04/2010</td><td>64.84     </td><td>2.795     </td><td>NA        </td><td>NA        </td><td>NA        </td><td>NA        </td><td>NA        </td><td>210.4391  </td><td>7.808     </td><td>FALSE     </td><td>A         </td><td>151315    </td></tr>\n",
       "\t<tr><td>1         </td><td>30/04/2010</td><td>67.41     </td><td>2.780     </td><td>NA        </td><td>NA        </td><td>NA        </td><td>NA        </td><td>NA        </td><td>210.3895  </td><td>7.808     </td><td>FALSE     </td><td>A         </td><td>151315    </td></tr>\n",
       "\t<tr><td>1         </td><td>07/05/2010</td><td>72.55     </td><td>2.835     </td><td>NA        </td><td>NA        </td><td>NA        </td><td>NA        </td><td>NA        </td><td>210.3400  </td><td>7.808     </td><td>FALSE     </td><td>A         </td><td>151315    </td></tr>\n",
       "\t<tr><td>1         </td><td>14/05/2010</td><td>74.78     </td><td>2.854     </td><td>NA        </td><td>NA        </td><td>NA        </td><td>NA        </td><td>NA        </td><td>210.3374  </td><td>7.808     </td><td>FALSE     </td><td>A         </td><td>151315    </td></tr>\n",
       "\t<tr><td>1         </td><td>21/05/2010</td><td>76.44     </td><td>2.826     </td><td>NA        </td><td>NA        </td><td>NA        </td><td>NA        </td><td>NA        </td><td>210.6171  </td><td>7.808     </td><td>FALSE     </td><td>A         </td><td>151315    </td></tr>\n",
       "\t<tr><td>1         </td><td>28/05/2010</td><td>80.44     </td><td>2.759     </td><td>NA        </td><td>NA        </td><td>NA        </td><td>NA        </td><td>NA        </td><td>210.8968  </td><td>7.808     </td><td>FALSE     </td><td>A         </td><td>151315    </td></tr>\n",
       "\t<tr><td>1         </td><td>04/06/2010</td><td>80.69     </td><td>2.705     </td><td>NA        </td><td>NA        </td><td>NA        </td><td>NA        </td><td>NA        </td><td>211.1764  </td><td>7.808     </td><td>FALSE     </td><td>A         </td><td>151315    </td></tr>\n",
       "\t<tr><td>1         </td><td>11/06/2010</td><td>80.43     </td><td>2.668     </td><td>NA        </td><td>NA        </td><td>NA        </td><td>NA        </td><td>NA        </td><td>211.4561  </td><td>7.808     </td><td>FALSE     </td><td>A         </td><td>151315    </td></tr>\n",
       "\t<tr><td>1         </td><td>18/06/2010</td><td>84.11     </td><td>2.637     </td><td>NA        </td><td>NA        </td><td>NA        </td><td>NA        </td><td>NA        </td><td>211.4538  </td><td>7.808     </td><td>FALSE     </td><td>A         </td><td>151315    </td></tr>\n",
       "\t<tr><td>1         </td><td>25/06/2010</td><td>84.34     </td><td>2.653     </td><td>NA        </td><td>NA        </td><td>NA        </td><td>NA        </td><td>NA        </td><td>211.3387  </td><td>7.808     </td><td>FALSE     </td><td>A         </td><td>151315    </td></tr>\n",
       "\t<tr><td>1         </td><td>02/07/2010</td><td>80.91     </td><td>2.669     </td><td>NA        </td><td>NA        </td><td>NA        </td><td>NA        </td><td>NA        </td><td>211.2235  </td><td>7.787     </td><td>FALSE     </td><td>A         </td><td>151315    </td></tr>\n",
       "\t<tr><td>1         </td><td>09/07/2010</td><td>80.48     </td><td>2.642     </td><td>NA        </td><td>NA        </td><td>NA        </td><td>NA        </td><td>NA        </td><td>211.1084  </td><td>7.787     </td><td>FALSE     </td><td>A         </td><td>151315    </td></tr>\n",
       "\t<tr><td>1         </td><td>16/07/2010</td><td>83.15     </td><td>2.623     </td><td>NA        </td><td>NA        </td><td>NA        </td><td>NA        </td><td>NA        </td><td>211.1004  </td><td>7.787     </td><td>FALSE     </td><td>A         </td><td>151315    </td></tr>\n",
       "\t<tr><td>1         </td><td>23/07/2010</td><td>83.36     </td><td>2.608     </td><td>NA        </td><td>NA        </td><td>NA        </td><td>NA        </td><td>NA        </td><td>211.2351  </td><td>7.787     </td><td>FALSE     </td><td>A         </td><td>151315    </td></tr>\n",
       "\t<tr><td>1         </td><td>30/07/2010</td><td>81.84     </td><td>2.640     </td><td>NA        </td><td>NA        </td><td>NA        </td><td>NA        </td><td>NA        </td><td>211.3699  </td><td>7.787     </td><td>FALSE     </td><td>A         </td><td>151315    </td></tr>\n",
       "\t<tr><td>1         </td><td>06/08/2010</td><td>87.16     </td><td>2.627     </td><td>NA        </td><td>NA        </td><td>NA        </td><td>NA        </td><td>NA        </td><td>211.5047  </td><td>7.787     </td><td>FALSE     </td><td>A         </td><td>151315    </td></tr>\n",
       "\t<tr><td>1         </td><td>13/08/2010</td><td>87.00     </td><td>2.692     </td><td>NA        </td><td>NA        </td><td>NA        </td><td>NA        </td><td>NA        </td><td>211.6394  </td><td>7.787     </td><td>FALSE     </td><td>A         </td><td>151315    </td></tr>\n",
       "\t<tr><td>1         </td><td>20/08/2010</td><td>86.65     </td><td>2.664     </td><td>NA        </td><td>NA        </td><td>NA        </td><td>NA        </td><td>NA        </td><td>211.6034  </td><td>7.787     </td><td>FALSE     </td><td>A         </td><td>151315    </td></tr>\n",
       "\t<tr><td>1         </td><td>27/08/2010</td><td>85.22     </td><td>2.619     </td><td>NA        </td><td>NA        </td><td>NA        </td><td>NA        </td><td>NA        </td><td>211.5673  </td><td>7.787     </td><td>FALSE     </td><td>A         </td><td>151315    </td></tr>\n",
       "\t<tr><td>...</td><td>...</td><td>...</td><td>...</td><td>...</td><td>...</td><td>...</td><td>...</td><td>...</td><td>...</td><td>...</td><td>...</td><td>...</td><td>...</td></tr>\n",
       "\t<tr><td>1         </td><td>10/06/2011</td><td>83.13     </td><td>3.648     </td><td>      NA  </td><td>      NA  </td><td>      NA  </td><td>     NA   </td><td>      NA  </td><td>215.0435  </td><td>7.682     </td><td>FALSE     </td><td>A         </td><td>151315    </td></tr>\n",
       "\t<tr><td>1         </td><td>17/06/2011</td><td>86.41     </td><td>3.637     </td><td>      NA  </td><td>      NA  </td><td>      NA  </td><td>     NA   </td><td>      NA  </td><td>214.9981  </td><td>7.682     </td><td>FALSE     </td><td>A         </td><td>151315    </td></tr>\n",
       "\t<tr><td>1         </td><td>24/06/2011</td><td>83.58     </td><td>3.594     </td><td>      NA  </td><td>      NA  </td><td>      NA  </td><td>     NA   </td><td>      NA  </td><td>215.0911  </td><td>7.682     </td><td>FALSE     </td><td>A         </td><td>151315    </td></tr>\n",
       "\t<tr><td>1         </td><td>01/07/2011</td><td>85.55     </td><td>3.524     </td><td>      NA  </td><td>      NA  </td><td>      NA  </td><td>     NA   </td><td>      NA  </td><td>215.1841  </td><td>7.962     </td><td>FALSE     </td><td>A         </td><td>151315    </td></tr>\n",
       "\t<tr><td>1         </td><td>08/07/2011</td><td>85.83     </td><td>3.480     </td><td>      NA  </td><td>      NA  </td><td>      NA  </td><td>     NA   </td><td>      NA  </td><td>215.2772  </td><td>7.962     </td><td>FALSE     </td><td>A         </td><td>151315    </td></tr>\n",
       "\t<tr><td>1         </td><td>15/07/2011</td><td>88.54     </td><td>3.575     </td><td>      NA  </td><td>      NA  </td><td>      NA  </td><td>     NA   </td><td>      NA  </td><td>215.3611  </td><td>7.962     </td><td>FALSE     </td><td>A         </td><td>151315    </td></tr>\n",
       "\t<tr><td>1         </td><td>22/07/2011</td><td>85.77     </td><td>3.651     </td><td>      NA  </td><td>      NA  </td><td>      NA  </td><td>     NA   </td><td>      NA  </td><td>215.4223  </td><td>7.962     </td><td>FALSE     </td><td>A         </td><td>151315    </td></tr>\n",
       "\t<tr><td>1         </td><td>29/07/2011</td><td>86.83     </td><td>3.682     </td><td>      NA  </td><td>      NA  </td><td>      NA  </td><td>     NA   </td><td>      NA  </td><td>215.4834  </td><td>7.962     </td><td>FALSE     </td><td>A         </td><td>151315    </td></tr>\n",
       "\t<tr><td>1         </td><td>05/08/2011</td><td>91.65     </td><td>3.684     </td><td>      NA  </td><td>      NA  </td><td>      NA  </td><td>     NA   </td><td>      NA  </td><td>215.5446  </td><td>7.962     </td><td>FALSE     </td><td>A         </td><td>151315    </td></tr>\n",
       "\t<tr><td>1         </td><td>12/08/2011</td><td>90.76     </td><td>3.638     </td><td>      NA  </td><td>      NA  </td><td>      NA  </td><td>     NA   </td><td>      NA  </td><td>215.6058  </td><td>7.962     </td><td>FALSE     </td><td>A         </td><td>151315    </td></tr>\n",
       "\t<tr><td>1         </td><td>19/08/2011</td><td>89.94     </td><td>3.554     </td><td>      NA  </td><td>      NA  </td><td>      NA  </td><td>     NA   </td><td>      NA  </td><td>215.6693  </td><td>7.962     </td><td>FALSE     </td><td>A         </td><td>151315    </td></tr>\n",
       "\t<tr><td>1         </td><td>26/08/2011</td><td>87.96     </td><td>3.523     </td><td>      NA  </td><td>      NA  </td><td>      NA  </td><td>     NA   </td><td>      NA  </td><td>215.7332  </td><td>7.962     </td><td>FALSE     </td><td>A         </td><td>151315    </td></tr>\n",
       "\t<tr><td>1         </td><td>02/09/2011</td><td>87.83     </td><td>3.533     </td><td>      NA  </td><td>      NA  </td><td>      NA  </td><td>     NA   </td><td>      NA  </td><td>215.7971  </td><td>7.962     </td><td>FALSE     </td><td>A         </td><td>151315    </td></tr>\n",
       "\t<tr><td>1         </td><td>09/09/2011</td><td>76.00     </td><td>3.546     </td><td>      NA  </td><td>      NA  </td><td>      NA  </td><td>     NA   </td><td>      NA  </td><td>215.8611  </td><td>7.962     </td><td> TRUE     </td><td>A         </td><td>151315    </td></tr>\n",
       "\t<tr><td>1         </td><td>16/09/2011</td><td>79.94     </td><td>3.526     </td><td>      NA  </td><td>      NA  </td><td>      NA  </td><td>     NA   </td><td>      NA  </td><td>216.0411  </td><td>7.962     </td><td>FALSE     </td><td>A         </td><td>151315    </td></tr>\n",
       "\t<tr><td>1         </td><td>23/09/2011</td><td>75.80     </td><td>3.467     </td><td>      NA  </td><td>      NA  </td><td>      NA  </td><td>     NA   </td><td>      NA  </td><td>216.3758  </td><td>7.962     </td><td>FALSE     </td><td>A         </td><td>151315    </td></tr>\n",
       "\t<tr><td>1         </td><td>30/09/2011</td><td>79.69     </td><td>3.355     </td><td>      NA  </td><td>      NA  </td><td>      NA  </td><td>     NA   </td><td>      NA  </td><td>216.7106  </td><td>7.962     </td><td>FALSE     </td><td>A         </td><td>151315    </td></tr>\n",
       "\t<tr><td>1         </td><td>07/10/2011</td><td>69.31     </td><td>3.285     </td><td>      NA  </td><td>      NA  </td><td>      NA  </td><td>     NA   </td><td>      NA  </td><td>217.0454  </td><td>7.866     </td><td>FALSE     </td><td>A         </td><td>151315    </td></tr>\n",
       "\t<tr><td>1         </td><td>14/10/2011</td><td>71.74     </td><td>3.274     </td><td>      NA  </td><td>      NA  </td><td>      NA  </td><td>     NA   </td><td>      NA  </td><td>217.3553  </td><td>7.866     </td><td>FALSE     </td><td>A         </td><td>151315    </td></tr>\n",
       "\t<tr><td>1         </td><td>21/10/2011</td><td>63.71     </td><td>3.353     </td><td>      NA  </td><td>      NA  </td><td>      NA  </td><td>     NA   </td><td>      NA  </td><td>217.5160  </td><td>7.866     </td><td>FALSE     </td><td>A         </td><td>151315    </td></tr>\n",
       "\t<tr><td>1         </td><td>28/10/2011</td><td>66.57     </td><td>3.372     </td><td>      NA  </td><td>      NA  </td><td>      NA  </td><td>     NA   </td><td>      NA  </td><td>217.6767  </td><td>7.866     </td><td>FALSE     </td><td>A         </td><td>151315    </td></tr>\n",
       "\t<tr><td>1         </td><td>04/11/2011</td><td>54.98     </td><td>3.332     </td><td>      NA  </td><td>      NA  </td><td>      NA  </td><td>     NA   </td><td>      NA  </td><td>217.8374  </td><td>7.866     </td><td>FALSE     </td><td>A         </td><td>151315    </td></tr>\n",
       "\t<tr><td>1         </td><td>11/11/2011</td><td>59.11     </td><td>3.297     </td><td>10382.90  </td><td> 6115.67  </td><td>  215.07  </td><td>2406.62   </td><td> 6551.42  </td><td>217.9981  </td><td>7.866     </td><td>FALSE     </td><td>A         </td><td>151315    </td></tr>\n",
       "\t<tr><td>1         </td><td>18/11/2011</td><td>62.25     </td><td>3.308     </td><td> 6074.12  </td><td>  254.39  </td><td>   51.98  </td><td> 427.39   </td><td> 5988.57  </td><td>218.2205  </td><td>7.866     </td><td>FALSE     </td><td>A         </td><td>151315    </td></tr>\n",
       "\t<tr><td>1         </td><td>25/11/2011</td><td>60.14     </td><td>3.236     </td><td>  410.31  </td><td>   98.00  </td><td>55805.51  </td><td>   8.00   </td><td>  554.92  </td><td>218.4676  </td><td>7.866     </td><td> TRUE     </td><td>A         </td><td>151315    </td></tr>\n",
       "\t<tr><td>1         </td><td>02/12/2011</td><td>48.91     </td><td>3.172     </td><td> 5629.51  </td><td>   68.00  </td><td> 1398.11  </td><td>2084.64   </td><td>20475.32  </td><td>218.7147  </td><td>7.866     </td><td>FALSE     </td><td>A         </td><td>151315    </td></tr>\n",
       "\t<tr><td>1         </td><td>09/12/2011</td><td>43.93     </td><td>3.158     </td><td> 4640.65  </td><td>   19.00  </td><td>  105.02  </td><td>3639.42   </td><td>14461.82  </td><td>218.9618  </td><td>7.866     </td><td>FALSE     </td><td>A         </td><td>151315    </td></tr>\n",
       "\t<tr><td>1         </td><td>16/12/2011</td><td>51.63     </td><td>3.159     </td><td> 5011.32  </td><td>   67.00  </td><td>  347.37  </td><td> 225.79   </td><td> 4011.37  </td><td>219.1795  </td><td>7.866     </td><td>FALSE     </td><td>A         </td><td>151315    </td></tr>\n",
       "\t<tr><td>1         </td><td>23/12/2011</td><td>47.96     </td><td>3.112     </td><td> 2725.36  </td><td>   40.48  </td><td>  634.70  </td><td>  24.90   </td><td> 2739.43  </td><td>219.3577  </td><td>7.866     </td><td>FALSE     </td><td>A         </td><td>151315    </td></tr>\n",
       "\t<tr><td>1         </td><td>30/12/2011</td><td>44.55     </td><td>3.129     </td><td> 5762.10  </td><td>46011.38  </td><td>  260.36  </td><td> 983.65   </td><td> 4735.78  </td><td>219.5360  </td><td>7.866     </td><td> TRUE     </td><td>A         </td><td>151315    </td></tr>\n",
       "</tbody>\n",
       "</table>\n"
      ],
      "text/latex": [
       "\\begin{tabular}{r|llllllllllllll}\n",
       " Store & Date & Temperature & Fuel\\_Price & MarkDown1 & MarkDown2 & MarkDown3 & MarkDown4 & MarkDown5 & CPI & Unemployment & IsHoliday & Type & Size\\\\\n",
       "\\hline\n",
       "\t 1          & 05/02/2010 & 42.31      & 2.572      & NA         & NA         & NA         & NA         & NA         & 211.0964   & 8.106      & FALSE      & A          & 151315    \\\\\n",
       "\t 1          & 12/02/2010 & 38.51      & 2.548      & NA         & NA         & NA         & NA         & NA         & 211.2422   & 8.106      &  TRUE      & A          & 151315    \\\\\n",
       "\t 1          & 19/02/2010 & 39.93      & 2.514      & NA         & NA         & NA         & NA         & NA         & 211.2891   & 8.106      & FALSE      & A          & 151315    \\\\\n",
       "\t 1          & 26/02/2010 & 46.63      & 2.561      & NA         & NA         & NA         & NA         & NA         & 211.3196   & 8.106      & FALSE      & A          & 151315    \\\\\n",
       "\t 1          & 05/03/2010 & 46.50      & 2.625      & NA         & NA         & NA         & NA         & NA         & 211.3501   & 8.106      & FALSE      & A          & 151315    \\\\\n",
       "\t 1          & 12/03/2010 & 57.79      & 2.667      & NA         & NA         & NA         & NA         & NA         & 211.3806   & 8.106      & FALSE      & A          & 151315    \\\\\n",
       "\t 1          & 19/03/2010 & 54.58      & 2.720      & NA         & NA         & NA         & NA         & NA         & 211.2156   & 8.106      & FALSE      & A          & 151315    \\\\\n",
       "\t 1          & 26/03/2010 & 51.45      & 2.732      & NA         & NA         & NA         & NA         & NA         & 211.0180   & 8.106      & FALSE      & A          & 151315    \\\\\n",
       "\t 1          & 02/04/2010 & 62.27      & 2.719      & NA         & NA         & NA         & NA         & NA         & 210.8204   & 7.808      & FALSE      & A          & 151315    \\\\\n",
       "\t 1          & 09/04/2010 & 65.86      & 2.770      & NA         & NA         & NA         & NA         & NA         & 210.6229   & 7.808      & FALSE      & A          & 151315    \\\\\n",
       "\t 1          & 16/04/2010 & 66.32      & 2.808      & NA         & NA         & NA         & NA         & NA         & 210.4887   & 7.808      & FALSE      & A          & 151315    \\\\\n",
       "\t 1          & 23/04/2010 & 64.84      & 2.795      & NA         & NA         & NA         & NA         & NA         & 210.4391   & 7.808      & FALSE      & A          & 151315    \\\\\n",
       "\t 1          & 30/04/2010 & 67.41      & 2.780      & NA         & NA         & NA         & NA         & NA         & 210.3895   & 7.808      & FALSE      & A          & 151315    \\\\\n",
       "\t 1          & 07/05/2010 & 72.55      & 2.835      & NA         & NA         & NA         & NA         & NA         & 210.3400   & 7.808      & FALSE      & A          & 151315    \\\\\n",
       "\t 1          & 14/05/2010 & 74.78      & 2.854      & NA         & NA         & NA         & NA         & NA         & 210.3374   & 7.808      & FALSE      & A          & 151315    \\\\\n",
       "\t 1          & 21/05/2010 & 76.44      & 2.826      & NA         & NA         & NA         & NA         & NA         & 210.6171   & 7.808      & FALSE      & A          & 151315    \\\\\n",
       "\t 1          & 28/05/2010 & 80.44      & 2.759      & NA         & NA         & NA         & NA         & NA         & 210.8968   & 7.808      & FALSE      & A          & 151315    \\\\\n",
       "\t 1          & 04/06/2010 & 80.69      & 2.705      & NA         & NA         & NA         & NA         & NA         & 211.1764   & 7.808      & FALSE      & A          & 151315    \\\\\n",
       "\t 1          & 11/06/2010 & 80.43      & 2.668      & NA         & NA         & NA         & NA         & NA         & 211.4561   & 7.808      & FALSE      & A          & 151315    \\\\\n",
       "\t 1          & 18/06/2010 & 84.11      & 2.637      & NA         & NA         & NA         & NA         & NA         & 211.4538   & 7.808      & FALSE      & A          & 151315    \\\\\n",
       "\t 1          & 25/06/2010 & 84.34      & 2.653      & NA         & NA         & NA         & NA         & NA         & 211.3387   & 7.808      & FALSE      & A          & 151315    \\\\\n",
       "\t 1          & 02/07/2010 & 80.91      & 2.669      & NA         & NA         & NA         & NA         & NA         & 211.2235   & 7.787      & FALSE      & A          & 151315    \\\\\n",
       "\t 1          & 09/07/2010 & 80.48      & 2.642      & NA         & NA         & NA         & NA         & NA         & 211.1084   & 7.787      & FALSE      & A          & 151315    \\\\\n",
       "\t 1          & 16/07/2010 & 83.15      & 2.623      & NA         & NA         & NA         & NA         & NA         & 211.1004   & 7.787      & FALSE      & A          & 151315    \\\\\n",
       "\t 1          & 23/07/2010 & 83.36      & 2.608      & NA         & NA         & NA         & NA         & NA         & 211.2351   & 7.787      & FALSE      & A          & 151315    \\\\\n",
       "\t 1          & 30/07/2010 & 81.84      & 2.640      & NA         & NA         & NA         & NA         & NA         & 211.3699   & 7.787      & FALSE      & A          & 151315    \\\\\n",
       "\t 1          & 06/08/2010 & 87.16      & 2.627      & NA         & NA         & NA         & NA         & NA         & 211.5047   & 7.787      & FALSE      & A          & 151315    \\\\\n",
       "\t 1          & 13/08/2010 & 87.00      & 2.692      & NA         & NA         & NA         & NA         & NA         & 211.6394   & 7.787      & FALSE      & A          & 151315    \\\\\n",
       "\t 1          & 20/08/2010 & 86.65      & 2.664      & NA         & NA         & NA         & NA         & NA         & 211.6034   & 7.787      & FALSE      & A          & 151315    \\\\\n",
       "\t 1          & 27/08/2010 & 85.22      & 2.619      & NA         & NA         & NA         & NA         & NA         & 211.5673   & 7.787      & FALSE      & A          & 151315    \\\\\n",
       "\t ... & ... & ... & ... & ... & ... & ... & ... & ... & ... & ... & ... & ... & ...\\\\\n",
       "\t 1          & 10/06/2011 & 83.13      & 3.648      &       NA   &       NA   &       NA   &      NA    &       NA   & 215.0435   & 7.682      & FALSE      & A          & 151315    \\\\\n",
       "\t 1          & 17/06/2011 & 86.41      & 3.637      &       NA   &       NA   &       NA   &      NA    &       NA   & 214.9981   & 7.682      & FALSE      & A          & 151315    \\\\\n",
       "\t 1          & 24/06/2011 & 83.58      & 3.594      &       NA   &       NA   &       NA   &      NA    &       NA   & 215.0911   & 7.682      & FALSE      & A          & 151315    \\\\\n",
       "\t 1          & 01/07/2011 & 85.55      & 3.524      &       NA   &       NA   &       NA   &      NA    &       NA   & 215.1841   & 7.962      & FALSE      & A          & 151315    \\\\\n",
       "\t 1          & 08/07/2011 & 85.83      & 3.480      &       NA   &       NA   &       NA   &      NA    &       NA   & 215.2772   & 7.962      & FALSE      & A          & 151315    \\\\\n",
       "\t 1          & 15/07/2011 & 88.54      & 3.575      &       NA   &       NA   &       NA   &      NA    &       NA   & 215.3611   & 7.962      & FALSE      & A          & 151315    \\\\\n",
       "\t 1          & 22/07/2011 & 85.77      & 3.651      &       NA   &       NA   &       NA   &      NA    &       NA   & 215.4223   & 7.962      & FALSE      & A          & 151315    \\\\\n",
       "\t 1          & 29/07/2011 & 86.83      & 3.682      &       NA   &       NA   &       NA   &      NA    &       NA   & 215.4834   & 7.962      & FALSE      & A          & 151315    \\\\\n",
       "\t 1          & 05/08/2011 & 91.65      & 3.684      &       NA   &       NA   &       NA   &      NA    &       NA   & 215.5446   & 7.962      & FALSE      & A          & 151315    \\\\\n",
       "\t 1          & 12/08/2011 & 90.76      & 3.638      &       NA   &       NA   &       NA   &      NA    &       NA   & 215.6058   & 7.962      & FALSE      & A          & 151315    \\\\\n",
       "\t 1          & 19/08/2011 & 89.94      & 3.554      &       NA   &       NA   &       NA   &      NA    &       NA   & 215.6693   & 7.962      & FALSE      & A          & 151315    \\\\\n",
       "\t 1          & 26/08/2011 & 87.96      & 3.523      &       NA   &       NA   &       NA   &      NA    &       NA   & 215.7332   & 7.962      & FALSE      & A          & 151315    \\\\\n",
       "\t 1          & 02/09/2011 & 87.83      & 3.533      &       NA   &       NA   &       NA   &      NA    &       NA   & 215.7971   & 7.962      & FALSE      & A          & 151315    \\\\\n",
       "\t 1          & 09/09/2011 & 76.00      & 3.546      &       NA   &       NA   &       NA   &      NA    &       NA   & 215.8611   & 7.962      &  TRUE      & A          & 151315    \\\\\n",
       "\t 1          & 16/09/2011 & 79.94      & 3.526      &       NA   &       NA   &       NA   &      NA    &       NA   & 216.0411   & 7.962      & FALSE      & A          & 151315    \\\\\n",
       "\t 1          & 23/09/2011 & 75.80      & 3.467      &       NA   &       NA   &       NA   &      NA    &       NA   & 216.3758   & 7.962      & FALSE      & A          & 151315    \\\\\n",
       "\t 1          & 30/09/2011 & 79.69      & 3.355      &       NA   &       NA   &       NA   &      NA    &       NA   & 216.7106   & 7.962      & FALSE      & A          & 151315    \\\\\n",
       "\t 1          & 07/10/2011 & 69.31      & 3.285      &       NA   &       NA   &       NA   &      NA    &       NA   & 217.0454   & 7.866      & FALSE      & A          & 151315    \\\\\n",
       "\t 1          & 14/10/2011 & 71.74      & 3.274      &       NA   &       NA   &       NA   &      NA    &       NA   & 217.3553   & 7.866      & FALSE      & A          & 151315    \\\\\n",
       "\t 1          & 21/10/2011 & 63.71      & 3.353      &       NA   &       NA   &       NA   &      NA    &       NA   & 217.5160   & 7.866      & FALSE      & A          & 151315    \\\\\n",
       "\t 1          & 28/10/2011 & 66.57      & 3.372      &       NA   &       NA   &       NA   &      NA    &       NA   & 217.6767   & 7.866      & FALSE      & A          & 151315    \\\\\n",
       "\t 1          & 04/11/2011 & 54.98      & 3.332      &       NA   &       NA   &       NA   &      NA    &       NA   & 217.8374   & 7.866      & FALSE      & A          & 151315    \\\\\n",
       "\t 1          & 11/11/2011 & 59.11      & 3.297      & 10382.90   &  6115.67   &   215.07   & 2406.62    &  6551.42   & 217.9981   & 7.866      & FALSE      & A          & 151315    \\\\\n",
       "\t 1          & 18/11/2011 & 62.25      & 3.308      &  6074.12   &   254.39   &    51.98   &  427.39    &  5988.57   & 218.2205   & 7.866      & FALSE      & A          & 151315    \\\\\n",
       "\t 1          & 25/11/2011 & 60.14      & 3.236      &   410.31   &    98.00   & 55805.51   &    8.00    &   554.92   & 218.4676   & 7.866      &  TRUE      & A          & 151315    \\\\\n",
       "\t 1          & 02/12/2011 & 48.91      & 3.172      &  5629.51   &    68.00   &  1398.11   & 2084.64    & 20475.32   & 218.7147   & 7.866      & FALSE      & A          & 151315    \\\\\n",
       "\t 1          & 09/12/2011 & 43.93      & 3.158      &  4640.65   &    19.00   &   105.02   & 3639.42    & 14461.82   & 218.9618   & 7.866      & FALSE      & A          & 151315    \\\\\n",
       "\t 1          & 16/12/2011 & 51.63      & 3.159      &  5011.32   &    67.00   &   347.37   &  225.79    &  4011.37   & 219.1795   & 7.866      & FALSE      & A          & 151315    \\\\\n",
       "\t 1          & 23/12/2011 & 47.96      & 3.112      &  2725.36   &    40.48   &   634.70   &   24.90    &  2739.43   & 219.3577   & 7.866      & FALSE      & A          & 151315    \\\\\n",
       "\t 1          & 30/12/2011 & 44.55      & 3.129      &  5762.10   & 46011.38   &   260.36   &  983.65    &  4735.78   & 219.5360   & 7.866      &  TRUE      & A          & 151315    \\\\\n",
       "\\end{tabular}\n"
      ],
      "text/markdown": [
       "\n",
       "| Store | Date | Temperature | Fuel_Price | MarkDown1 | MarkDown2 | MarkDown3 | MarkDown4 | MarkDown5 | CPI | Unemployment | IsHoliday | Type | Size |\n",
       "|---|---|---|---|---|---|---|---|---|---|---|---|---|---|\n",
       "| 1          | 05/02/2010 | 42.31      | 2.572      | NA         | NA         | NA         | NA         | NA         | 211.0964   | 8.106      | FALSE      | A          | 151315     |\n",
       "| 1          | 12/02/2010 | 38.51      | 2.548      | NA         | NA         | NA         | NA         | NA         | 211.2422   | 8.106      |  TRUE      | A          | 151315     |\n",
       "| 1          | 19/02/2010 | 39.93      | 2.514      | NA         | NA         | NA         | NA         | NA         | 211.2891   | 8.106      | FALSE      | A          | 151315     |\n",
       "| 1          | 26/02/2010 | 46.63      | 2.561      | NA         | NA         | NA         | NA         | NA         | 211.3196   | 8.106      | FALSE      | A          | 151315     |\n",
       "| 1          | 05/03/2010 | 46.50      | 2.625      | NA         | NA         | NA         | NA         | NA         | 211.3501   | 8.106      | FALSE      | A          | 151315     |\n",
       "| 1          | 12/03/2010 | 57.79      | 2.667      | NA         | NA         | NA         | NA         | NA         | 211.3806   | 8.106      | FALSE      | A          | 151315     |\n",
       "| 1          | 19/03/2010 | 54.58      | 2.720      | NA         | NA         | NA         | NA         | NA         | 211.2156   | 8.106      | FALSE      | A          | 151315     |\n",
       "| 1          | 26/03/2010 | 51.45      | 2.732      | NA         | NA         | NA         | NA         | NA         | 211.0180   | 8.106      | FALSE      | A          | 151315     |\n",
       "| 1          | 02/04/2010 | 62.27      | 2.719      | NA         | NA         | NA         | NA         | NA         | 210.8204   | 7.808      | FALSE      | A          | 151315     |\n",
       "| 1          | 09/04/2010 | 65.86      | 2.770      | NA         | NA         | NA         | NA         | NA         | 210.6229   | 7.808      | FALSE      | A          | 151315     |\n",
       "| 1          | 16/04/2010 | 66.32      | 2.808      | NA         | NA         | NA         | NA         | NA         | 210.4887   | 7.808      | FALSE      | A          | 151315     |\n",
       "| 1          | 23/04/2010 | 64.84      | 2.795      | NA         | NA         | NA         | NA         | NA         | 210.4391   | 7.808      | FALSE      | A          | 151315     |\n",
       "| 1          | 30/04/2010 | 67.41      | 2.780      | NA         | NA         | NA         | NA         | NA         | 210.3895   | 7.808      | FALSE      | A          | 151315     |\n",
       "| 1          | 07/05/2010 | 72.55      | 2.835      | NA         | NA         | NA         | NA         | NA         | 210.3400   | 7.808      | FALSE      | A          | 151315     |\n",
       "| 1          | 14/05/2010 | 74.78      | 2.854      | NA         | NA         | NA         | NA         | NA         | 210.3374   | 7.808      | FALSE      | A          | 151315     |\n",
       "| 1          | 21/05/2010 | 76.44      | 2.826      | NA         | NA         | NA         | NA         | NA         | 210.6171   | 7.808      | FALSE      | A          | 151315     |\n",
       "| 1          | 28/05/2010 | 80.44      | 2.759      | NA         | NA         | NA         | NA         | NA         | 210.8968   | 7.808      | FALSE      | A          | 151315     |\n",
       "| 1          | 04/06/2010 | 80.69      | 2.705      | NA         | NA         | NA         | NA         | NA         | 211.1764   | 7.808      | FALSE      | A          | 151315     |\n",
       "| 1          | 11/06/2010 | 80.43      | 2.668      | NA         | NA         | NA         | NA         | NA         | 211.4561   | 7.808      | FALSE      | A          | 151315     |\n",
       "| 1          | 18/06/2010 | 84.11      | 2.637      | NA         | NA         | NA         | NA         | NA         | 211.4538   | 7.808      | FALSE      | A          | 151315     |\n",
       "| 1          | 25/06/2010 | 84.34      | 2.653      | NA         | NA         | NA         | NA         | NA         | 211.3387   | 7.808      | FALSE      | A          | 151315     |\n",
       "| 1          | 02/07/2010 | 80.91      | 2.669      | NA         | NA         | NA         | NA         | NA         | 211.2235   | 7.787      | FALSE      | A          | 151315     |\n",
       "| 1          | 09/07/2010 | 80.48      | 2.642      | NA         | NA         | NA         | NA         | NA         | 211.1084   | 7.787      | FALSE      | A          | 151315     |\n",
       "| 1          | 16/07/2010 | 83.15      | 2.623      | NA         | NA         | NA         | NA         | NA         | 211.1004   | 7.787      | FALSE      | A          | 151315     |\n",
       "| 1          | 23/07/2010 | 83.36      | 2.608      | NA         | NA         | NA         | NA         | NA         | 211.2351   | 7.787      | FALSE      | A          | 151315     |\n",
       "| 1          | 30/07/2010 | 81.84      | 2.640      | NA         | NA         | NA         | NA         | NA         | 211.3699   | 7.787      | FALSE      | A          | 151315     |\n",
       "| 1          | 06/08/2010 | 87.16      | 2.627      | NA         | NA         | NA         | NA         | NA         | 211.5047   | 7.787      | FALSE      | A          | 151315     |\n",
       "| 1          | 13/08/2010 | 87.00      | 2.692      | NA         | NA         | NA         | NA         | NA         | 211.6394   | 7.787      | FALSE      | A          | 151315     |\n",
       "| 1          | 20/08/2010 | 86.65      | 2.664      | NA         | NA         | NA         | NA         | NA         | 211.6034   | 7.787      | FALSE      | A          | 151315     |\n",
       "| 1          | 27/08/2010 | 85.22      | 2.619      | NA         | NA         | NA         | NA         | NA         | 211.5673   | 7.787      | FALSE      | A          | 151315     |\n",
       "| ... | ... | ... | ... | ... | ... | ... | ... | ... | ... | ... | ... | ... | ... |\n",
       "| 1          | 10/06/2011 | 83.13      | 3.648      |       NA   |       NA   |       NA   |      NA    |       NA   | 215.0435   | 7.682      | FALSE      | A          | 151315     |\n",
       "| 1          | 17/06/2011 | 86.41      | 3.637      |       NA   |       NA   |       NA   |      NA    |       NA   | 214.9981   | 7.682      | FALSE      | A          | 151315     |\n",
       "| 1          | 24/06/2011 | 83.58      | 3.594      |       NA   |       NA   |       NA   |      NA    |       NA   | 215.0911   | 7.682      | FALSE      | A          | 151315     |\n",
       "| 1          | 01/07/2011 | 85.55      | 3.524      |       NA   |       NA   |       NA   |      NA    |       NA   | 215.1841   | 7.962      | FALSE      | A          | 151315     |\n",
       "| 1          | 08/07/2011 | 85.83      | 3.480      |       NA   |       NA   |       NA   |      NA    |       NA   | 215.2772   | 7.962      | FALSE      | A          | 151315     |\n",
       "| 1          | 15/07/2011 | 88.54      | 3.575      |       NA   |       NA   |       NA   |      NA    |       NA   | 215.3611   | 7.962      | FALSE      | A          | 151315     |\n",
       "| 1          | 22/07/2011 | 85.77      | 3.651      |       NA   |       NA   |       NA   |      NA    |       NA   | 215.4223   | 7.962      | FALSE      | A          | 151315     |\n",
       "| 1          | 29/07/2011 | 86.83      | 3.682      |       NA   |       NA   |       NA   |      NA    |       NA   | 215.4834   | 7.962      | FALSE      | A          | 151315     |\n",
       "| 1          | 05/08/2011 | 91.65      | 3.684      |       NA   |       NA   |       NA   |      NA    |       NA   | 215.5446   | 7.962      | FALSE      | A          | 151315     |\n",
       "| 1          | 12/08/2011 | 90.76      | 3.638      |       NA   |       NA   |       NA   |      NA    |       NA   | 215.6058   | 7.962      | FALSE      | A          | 151315     |\n",
       "| 1          | 19/08/2011 | 89.94      | 3.554      |       NA   |       NA   |       NA   |      NA    |       NA   | 215.6693   | 7.962      | FALSE      | A          | 151315     |\n",
       "| 1          | 26/08/2011 | 87.96      | 3.523      |       NA   |       NA   |       NA   |      NA    |       NA   | 215.7332   | 7.962      | FALSE      | A          | 151315     |\n",
       "| 1          | 02/09/2011 | 87.83      | 3.533      |       NA   |       NA   |       NA   |      NA    |       NA   | 215.7971   | 7.962      | FALSE      | A          | 151315     |\n",
       "| 1          | 09/09/2011 | 76.00      | 3.546      |       NA   |       NA   |       NA   |      NA    |       NA   | 215.8611   | 7.962      |  TRUE      | A          | 151315     |\n",
       "| 1          | 16/09/2011 | 79.94      | 3.526      |       NA   |       NA   |       NA   |      NA    |       NA   | 216.0411   | 7.962      | FALSE      | A          | 151315     |\n",
       "| 1          | 23/09/2011 | 75.80      | 3.467      |       NA   |       NA   |       NA   |      NA    |       NA   | 216.3758   | 7.962      | FALSE      | A          | 151315     |\n",
       "| 1          | 30/09/2011 | 79.69      | 3.355      |       NA   |       NA   |       NA   |      NA    |       NA   | 216.7106   | 7.962      | FALSE      | A          | 151315     |\n",
       "| 1          | 07/10/2011 | 69.31      | 3.285      |       NA   |       NA   |       NA   |      NA    |       NA   | 217.0454   | 7.866      | FALSE      | A          | 151315     |\n",
       "| 1          | 14/10/2011 | 71.74      | 3.274      |       NA   |       NA   |       NA   |      NA    |       NA   | 217.3553   | 7.866      | FALSE      | A          | 151315     |\n",
       "| 1          | 21/10/2011 | 63.71      | 3.353      |       NA   |       NA   |       NA   |      NA    |       NA   | 217.5160   | 7.866      | FALSE      | A          | 151315     |\n",
       "| 1          | 28/10/2011 | 66.57      | 3.372      |       NA   |       NA   |       NA   |      NA    |       NA   | 217.6767   | 7.866      | FALSE      | A          | 151315     |\n",
       "| 1          | 04/11/2011 | 54.98      | 3.332      |       NA   |       NA   |       NA   |      NA    |       NA   | 217.8374   | 7.866      | FALSE      | A          | 151315     |\n",
       "| 1          | 11/11/2011 | 59.11      | 3.297      | 10382.90   |  6115.67   |   215.07   | 2406.62    |  6551.42   | 217.9981   | 7.866      | FALSE      | A          | 151315     |\n",
       "| 1          | 18/11/2011 | 62.25      | 3.308      |  6074.12   |   254.39   |    51.98   |  427.39    |  5988.57   | 218.2205   | 7.866      | FALSE      | A          | 151315     |\n",
       "| 1          | 25/11/2011 | 60.14      | 3.236      |   410.31   |    98.00   | 55805.51   |    8.00    |   554.92   | 218.4676   | 7.866      |  TRUE      | A          | 151315     |\n",
       "| 1          | 02/12/2011 | 48.91      | 3.172      |  5629.51   |    68.00   |  1398.11   | 2084.64    | 20475.32   | 218.7147   | 7.866      | FALSE      | A          | 151315     |\n",
       "| 1          | 09/12/2011 | 43.93      | 3.158      |  4640.65   |    19.00   |   105.02   | 3639.42    | 14461.82   | 218.9618   | 7.866      | FALSE      | A          | 151315     |\n",
       "| 1          | 16/12/2011 | 51.63      | 3.159      |  5011.32   |    67.00   |   347.37   |  225.79    |  4011.37   | 219.1795   | 7.866      | FALSE      | A          | 151315     |\n",
       "| 1          | 23/12/2011 | 47.96      | 3.112      |  2725.36   |    40.48   |   634.70   |   24.90    |  2739.43   | 219.3577   | 7.866      | FALSE      | A          | 151315     |\n",
       "| 1          | 30/12/2011 | 44.55      | 3.129      |  5762.10   | 46011.38   |   260.36   |  983.65    |  4735.78   | 219.5360   | 7.866      |  TRUE      | A          | 151315     |\n",
       "\n"
      ],
      "text/plain": [
       "    Store Date       Temperature Fuel_Price MarkDown1 MarkDown2 MarkDown3\n",
       "1   1     05/02/2010 42.31       2.572      NA        NA        NA       \n",
       "2   1     12/02/2010 38.51       2.548      NA        NA        NA       \n",
       "3   1     19/02/2010 39.93       2.514      NA        NA        NA       \n",
       "4   1     26/02/2010 46.63       2.561      NA        NA        NA       \n",
       "5   1     05/03/2010 46.50       2.625      NA        NA        NA       \n",
       "6   1     12/03/2010 57.79       2.667      NA        NA        NA       \n",
       "7   1     19/03/2010 54.58       2.720      NA        NA        NA       \n",
       "8   1     26/03/2010 51.45       2.732      NA        NA        NA       \n",
       "9   1     02/04/2010 62.27       2.719      NA        NA        NA       \n",
       "10  1     09/04/2010 65.86       2.770      NA        NA        NA       \n",
       "11  1     16/04/2010 66.32       2.808      NA        NA        NA       \n",
       "12  1     23/04/2010 64.84       2.795      NA        NA        NA       \n",
       "13  1     30/04/2010 67.41       2.780      NA        NA        NA       \n",
       "14  1     07/05/2010 72.55       2.835      NA        NA        NA       \n",
       "15  1     14/05/2010 74.78       2.854      NA        NA        NA       \n",
       "16  1     21/05/2010 76.44       2.826      NA        NA        NA       \n",
       "17  1     28/05/2010 80.44       2.759      NA        NA        NA       \n",
       "18  1     04/06/2010 80.69       2.705      NA        NA        NA       \n",
       "19  1     11/06/2010 80.43       2.668      NA        NA        NA       \n",
       "20  1     18/06/2010 84.11       2.637      NA        NA        NA       \n",
       "21  1     25/06/2010 84.34       2.653      NA        NA        NA       \n",
       "22  1     02/07/2010 80.91       2.669      NA        NA        NA       \n",
       "23  1     09/07/2010 80.48       2.642      NA        NA        NA       \n",
       "24  1     16/07/2010 83.15       2.623      NA        NA        NA       \n",
       "25  1     23/07/2010 83.36       2.608      NA        NA        NA       \n",
       "26  1     30/07/2010 81.84       2.640      NA        NA        NA       \n",
       "27  1     06/08/2010 87.16       2.627      NA        NA        NA       \n",
       "28  1     13/08/2010 87.00       2.692      NA        NA        NA       \n",
       "29  1     20/08/2010 86.65       2.664      NA        NA        NA       \n",
       "30  1     27/08/2010 85.22       2.619      NA        NA        NA       \n",
       "... ...   ...        ...         ...        ...       ...       ...      \n",
       "71  1     10/06/2011 83.13       3.648            NA        NA        NA \n",
       "72  1     17/06/2011 86.41       3.637            NA        NA        NA \n",
       "73  1     24/06/2011 83.58       3.594            NA        NA        NA \n",
       "74  1     01/07/2011 85.55       3.524            NA        NA        NA \n",
       "75  1     08/07/2011 85.83       3.480            NA        NA        NA \n",
       "76  1     15/07/2011 88.54       3.575            NA        NA        NA \n",
       "77  1     22/07/2011 85.77       3.651            NA        NA        NA \n",
       "78  1     29/07/2011 86.83       3.682            NA        NA        NA \n",
       "79  1     05/08/2011 91.65       3.684            NA        NA        NA \n",
       "80  1     12/08/2011 90.76       3.638            NA        NA        NA \n",
       "81  1     19/08/2011 89.94       3.554            NA        NA        NA \n",
       "82  1     26/08/2011 87.96       3.523            NA        NA        NA \n",
       "83  1     02/09/2011 87.83       3.533            NA        NA        NA \n",
       "84  1     09/09/2011 76.00       3.546            NA        NA        NA \n",
       "85  1     16/09/2011 79.94       3.526            NA        NA        NA \n",
       "86  1     23/09/2011 75.80       3.467            NA        NA        NA \n",
       "87  1     30/09/2011 79.69       3.355            NA        NA        NA \n",
       "88  1     07/10/2011 69.31       3.285            NA        NA        NA \n",
       "89  1     14/10/2011 71.74       3.274            NA        NA        NA \n",
       "90  1     21/10/2011 63.71       3.353            NA        NA        NA \n",
       "91  1     28/10/2011 66.57       3.372            NA        NA        NA \n",
       "92  1     04/11/2011 54.98       3.332            NA        NA        NA \n",
       "93  1     11/11/2011 59.11       3.297      10382.90   6115.67    215.07 \n",
       "94  1     18/11/2011 62.25       3.308       6074.12    254.39     51.98 \n",
       "95  1     25/11/2011 60.14       3.236        410.31     98.00  55805.51 \n",
       "96  1     02/12/2011 48.91       3.172       5629.51     68.00   1398.11 \n",
       "97  1     09/12/2011 43.93       3.158       4640.65     19.00    105.02 \n",
       "98  1     16/12/2011 51.63       3.159       5011.32     67.00    347.37 \n",
       "99  1     23/12/2011 47.96       3.112       2725.36     40.48    634.70 \n",
       "100 1     30/12/2011 44.55       3.129       5762.10  46011.38    260.36 \n",
       "    MarkDown4 MarkDown5 CPI      Unemployment IsHoliday Type Size  \n",
       "1   NA        NA        211.0964 8.106        FALSE     A    151315\n",
       "2   NA        NA        211.2422 8.106         TRUE     A    151315\n",
       "3   NA        NA        211.2891 8.106        FALSE     A    151315\n",
       "4   NA        NA        211.3196 8.106        FALSE     A    151315\n",
       "5   NA        NA        211.3501 8.106        FALSE     A    151315\n",
       "6   NA        NA        211.3806 8.106        FALSE     A    151315\n",
       "7   NA        NA        211.2156 8.106        FALSE     A    151315\n",
       "8   NA        NA        211.0180 8.106        FALSE     A    151315\n",
       "9   NA        NA        210.8204 7.808        FALSE     A    151315\n",
       "10  NA        NA        210.6229 7.808        FALSE     A    151315\n",
       "11  NA        NA        210.4887 7.808        FALSE     A    151315\n",
       "12  NA        NA        210.4391 7.808        FALSE     A    151315\n",
       "13  NA        NA        210.3895 7.808        FALSE     A    151315\n",
       "14  NA        NA        210.3400 7.808        FALSE     A    151315\n",
       "15  NA        NA        210.3374 7.808        FALSE     A    151315\n",
       "16  NA        NA        210.6171 7.808        FALSE     A    151315\n",
       "17  NA        NA        210.8968 7.808        FALSE     A    151315\n",
       "18  NA        NA        211.1764 7.808        FALSE     A    151315\n",
       "19  NA        NA        211.4561 7.808        FALSE     A    151315\n",
       "20  NA        NA        211.4538 7.808        FALSE     A    151315\n",
       "21  NA        NA        211.3387 7.808        FALSE     A    151315\n",
       "22  NA        NA        211.2235 7.787        FALSE     A    151315\n",
       "23  NA        NA        211.1084 7.787        FALSE     A    151315\n",
       "24  NA        NA        211.1004 7.787        FALSE     A    151315\n",
       "25  NA        NA        211.2351 7.787        FALSE     A    151315\n",
       "26  NA        NA        211.3699 7.787        FALSE     A    151315\n",
       "27  NA        NA        211.5047 7.787        FALSE     A    151315\n",
       "28  NA        NA        211.6394 7.787        FALSE     A    151315\n",
       "29  NA        NA        211.6034 7.787        FALSE     A    151315\n",
       "30  NA        NA        211.5673 7.787        FALSE     A    151315\n",
       "... ...       ...       ...      ...          ...       ...  ...   \n",
       "71       NA         NA  215.0435 7.682        FALSE     A    151315\n",
       "72       NA         NA  214.9981 7.682        FALSE     A    151315\n",
       "73       NA         NA  215.0911 7.682        FALSE     A    151315\n",
       "74       NA         NA  215.1841 7.962        FALSE     A    151315\n",
       "75       NA         NA  215.2772 7.962        FALSE     A    151315\n",
       "76       NA         NA  215.3611 7.962        FALSE     A    151315\n",
       "77       NA         NA  215.4223 7.962        FALSE     A    151315\n",
       "78       NA         NA  215.4834 7.962        FALSE     A    151315\n",
       "79       NA         NA  215.5446 7.962        FALSE     A    151315\n",
       "80       NA         NA  215.6058 7.962        FALSE     A    151315\n",
       "81       NA         NA  215.6693 7.962        FALSE     A    151315\n",
       "82       NA         NA  215.7332 7.962        FALSE     A    151315\n",
       "83       NA         NA  215.7971 7.962        FALSE     A    151315\n",
       "84       NA         NA  215.8611 7.962         TRUE     A    151315\n",
       "85       NA         NA  216.0411 7.962        FALSE     A    151315\n",
       "86       NA         NA  216.3758 7.962        FALSE     A    151315\n",
       "87       NA         NA  216.7106 7.962        FALSE     A    151315\n",
       "88       NA         NA  217.0454 7.866        FALSE     A    151315\n",
       "89       NA         NA  217.3553 7.866        FALSE     A    151315\n",
       "90       NA         NA  217.5160 7.866        FALSE     A    151315\n",
       "91       NA         NA  217.6767 7.866        FALSE     A    151315\n",
       "92       NA         NA  217.8374 7.866        FALSE     A    151315\n",
       "93  2406.62    6551.42  217.9981 7.866        FALSE     A    151315\n",
       "94   427.39    5988.57  218.2205 7.866        FALSE     A    151315\n",
       "95     8.00     554.92  218.4676 7.866         TRUE     A    151315\n",
       "96  2084.64   20475.32  218.7147 7.866        FALSE     A    151315\n",
       "97  3639.42   14461.82  218.9618 7.866        FALSE     A    151315\n",
       "98   225.79    4011.37  219.1795 7.866        FALSE     A    151315\n",
       "99    24.90    2739.43  219.3577 7.866        FALSE     A    151315\n",
       "100  983.65    4735.78  219.5360 7.866         TRUE     A    151315"
      ]
     },
     "metadata": {},
     "output_type": "display_data"
    },
    {
     "data": {
      "text/html": [
       "8190"
      ],
      "text/latex": [
       "8190"
      ],
      "text/markdown": [
       "8190"
      ],
      "text/plain": [
       "[1] 8190"
      ]
     },
     "metadata": {},
     "output_type": "display_data"
    }
   ],
   "source": [
    "head(merge2,n=10)\n",
    "nrow(merge2)"
   ]
  },
  {
   "cell_type": "markdown",
   "metadata": {},
   "source": [
    "Merging 'merge1' and 'merge2' dataframes into \"sales_all\" by date."
   ]
  },
  {
   "cell_type": "code",
   "execution_count": null,
   "metadata": {
    "scrolled": true
   },
   "outputs": [],
   "source": [
    "merg1<-head(merge1,n=10000)\n",
    "sales_all<-merge(merg1, merge2, by = \"Date\",all.x = TRUE)\n",
    "head(sales_all,n=10)\n",
    "colnames(sales_all)"
   ]
  },
  {
   "cell_type": "markdown",
   "metadata": {},
   "source": [
    "Merging first 10000 rows of merge1 and whole merge2 into sales_all. So that sales_all contain all the column from all three datasets. "
   ]
  },
  {
   "cell_type": "markdown",
   "metadata": {},
   "source": [
    "# 4. Simple Linear Regression: Make 5 models of simple linear regression to try and predict the weekly sales. Try to answer questions such as: \"How well can temperatures predict the weekly sales?\". Interpret the results of each model with explanatory text"
   ]
  },
  {
   "cell_type": "code",
   "execution_count": null,
   "metadata": {},
   "outputs": [],
   "source": [
    "model<-subset(merge1, select=c(Temperature,Fuel_Price,Unemployment,Weekly_Sales) )\n",
    "pairs(model)\n",
    "plot(model$Unemployment, model$Weekly_Sales, ylab = \"Weekly_Sales\",  \n",
    "     xlab = \"Umployment\", main = \"unemployment and weekly_sales\") "
   ]
  },
  {
   "cell_type": "markdown",
   "metadata": {},
   "source": [
    "# 5. Model Comparison: Compare each of the models in 4) and decide which one is better."
   ]
  },
  {
   "cell_type": "markdown",
   "metadata": {},
   "source": [
    "# 6. Multiple Linear Regression: Try now to, again, predict the weekly sales, but using more than one variable. Try different scenarios, compare your models and pick the best. Explain in words the interpretation of each of your models. Compare the multiple regression result with the simple regression result."
   ]
  },
  {
   "cell_type": "markdown",
   "metadata": {},
   "source": [
    "# 7. Summary of the findings: explain in words what you have found in the dataset in 2 paragraphs or more."
   ]
  },
  {
   "cell_type": "markdown",
   "metadata": {},
   "source": [
    "# 8. Recommendations: Make a recommendation to Amazon representatives based on your analysis in 2 paragraphs or more."
   ]
  }
 ],
 "metadata": {
  "kernelspec": {
   "display_name": "R",
   "language": "R",
   "name": "ir"
  },
  "language_info": {
   "codemirror_mode": "r",
   "file_extension": ".r",
   "mimetype": "text/x-r-source",
   "name": "R",
   "pygments_lexer": "r",
   "version": "3.6.1"
  }
 },
 "nbformat": 4,
 "nbformat_minor": 2
}
